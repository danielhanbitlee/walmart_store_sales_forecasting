{
 "cells": [
  {
   "cell_type": "markdown",
   "metadata": {},
   "source": [
    "# Walmart Sales Forecasting\n",
    "\n",
    "## In Depth Analysis\n",
    "\n",
    "Daniel Lee\n",
    "\n",
    "December 19, 2018"
   ]
  },
  {
   "cell_type": "markdown",
   "metadata": {},
   "source": [
    "For the in-depth analysis portion, I read in `df_final.csv` from the data wrangling portion of the project."
   ]
  },
  {
   "cell_type": "code",
   "execution_count": 2,
   "metadata": {},
   "outputs": [
    {
     "name": "stderr",
     "output_type": "stream",
     "text": [
      "/root/anaconda3/lib/python3.6/site-packages/sklearn/ensemble/weight_boosting.py:29: DeprecationWarning: numpy.core.umath_tests is an internal NumPy module and should not be imported. It will be removed in a future NumPy release.\n",
      "  from numpy.core.umath_tests import inner1d\n",
      "Using TensorFlow backend.\n"
     ]
    }
   ],
   "source": [
    "import matplotlib.pyplot as plt\n",
    "import matplotlib\n",
    "import pandas as pd\n",
    "from pandas.plotting import autocorrelation_plot\n",
    "import numpy as np\n",
    "from statsmodels.tsa.stattools import acf\n",
    "from statsmodels.graphics.tsaplots import plot_acf, plot_pacf\n",
    "from math import sqrt\n",
    "from statsmodels.tsa import stattools\n",
    "from statsmodels.tsa.stattools import adfuller\n",
    "from statsmodels.tsa.arima_model import ARMA, ARIMA\n",
    "from sklearn.linear_model import Ridge, Lasso\n",
    "import statsmodels.tsa.api as smtsa\n",
    "import statsmodels.api as sm\n",
    "import warnings\n",
    "from sqlalchemy import create_engine\n",
    "from pyspark.sql import SparkSession\n",
    "from sklearn.ensemble import RandomForestRegressor, ExtraTreesRegressor\n",
    "from sklearn.utils.validation import check_X_y, check_is_fitted\n",
    "from sklearn import metrics\n",
    "from sklearn.metrics import log_loss\n",
    "from sklearn.model_selection import StratifiedKFold\n",
    "from sklearn.model_selection import train_test_split\n",
    "from sklearn.preprocessing import StandardScaler\n",
    "from sklearn.metrics import accuracy_score, confusion_matrix\n",
    "from scipy import sparse\n",
    "import keras\n",
    "from keras.layers.core import Dense, Activation, Dropout\n",
    "from keras.layers.recurrent import LSTM\n",
    "from keras.layers import Bidirectional\n",
    "from keras.models import Sequential\n",
    "from keras import regularizers\n",
    "from keras import optimizers\n",
    "from keras.callbacks import EarlyStopping\n",
    "from sklearn.metrics import mean_squared_error, mean_absolute_error\n",
    "import xgboost as xgb\n",
    "from sklearn.pipeline import Pipeline\n",
    "from sklearn.linear_model import LinearRegression, Lasso, Ridge, ElasticNet\n",
    "from sklearn.neighbors import KNeighborsRegressor\n",
    "from sklearn.svm import SVR\n",
    "import pickle"
   ]
  },
  {
   "cell_type": "markdown",
   "metadata": {},
   "source": [
    "# Predict Individual Weekly_Sales For Every Unique Store, Dept, and Date"
   ]
  },
  {
   "cell_type": "code",
   "execution_count": 15,
   "metadata": {},
   "outputs": [],
   "source": [
    "df_final = pd.read_csv('../data/df_final.csv')"
   ]
  },
  {
   "cell_type": "code",
   "execution_count": 16,
   "metadata": {},
   "outputs": [],
   "source": [
    "simple_model_features = pd.read_csv('../data/simple_model_features.csv')"
   ]
  },
  {
   "cell_type": "code",
   "execution_count": 17,
   "metadata": {},
   "outputs": [],
   "source": [
    "simple_model_features = simple_model_features[['store', 'dept', 'date', 'median_sales', 'prev_year_sales', 'pdt_pred']]"
   ]
  },
  {
   "cell_type": "code",
   "execution_count": 18,
   "metadata": {},
   "outputs": [],
   "source": [
    "simple_model_features.columns = ['store', 'dept', 'date', 'median_sales_redone', 'prev_year_sales', 'pdt_pred']"
   ]
  },
  {
   "cell_type": "code",
   "execution_count": 19,
   "metadata": {},
   "outputs": [],
   "source": [
    "df_final = pd.merge(df_final, simple_model_features, on = ['store', 'dept', 'date'])"
   ]
  },
  {
   "cell_type": "markdown",
   "metadata": {},
   "source": [
    "# Split Data Into Training Set and Test Set"
   ]
  },
  {
   "cell_type": "markdown",
   "metadata": {},
   "source": [
    "Let's split our processed data into training set, validation set, and test set. We'll use the training set to fit our models, validation set to evaluate the model performance. Then, we'll use the test set to make predictions and submit to Kaggle. "
   ]
  },
  {
   "cell_type": "code",
   "execution_count": 20,
   "metadata": {},
   "outputs": [],
   "source": [
    "train = df_final.loc[df_final.source == 'train']\n",
    "\n",
    "test = df_final.loc[df_final.source == 'test']"
   ]
  },
  {
   "cell_type": "code",
   "execution_count": 21,
   "metadata": {},
   "outputs": [],
   "source": [
    "wanted_X_col = [\\\n",
    "#  'type',\n",
    "#  'dept',\n",
    "#  'store',\n",
    "#  'month',\n",
    "#  'is_holiday',\n",
    "#  'week_of_year',\n",
    "#  'date',\n",
    "#  'weekly_sales',\n",
    "#  'temperature',\n",
    "#  'fuel_price',\n",
    "#  'markdown1',\n",
    "#  'markdown2',\n",
    "#  'markdown3',\n",
    "#  'markdown4',\n",
    "#  'markdown5',\n",
    "#  'cpi',\n",
    "#  'unemployment',\n",
    " 'size',\n",
    "#  'source',\n",
    "#  'markdown1_median',\n",
    "#  'markdown2_median',\n",
    "#  'markdown3_median',\n",
    "#  'markdown4_median',\n",
    "#  'markdown5_median',\n",
    "#  'markdown1_median_filled_na',\n",
    "#  'markdown2_median_filled_na',\n",
    "#  'markdown3_median_filled_na',\n",
    "#  'markdown4_median_filled_na',\n",
    "#  'markdown5_median_filled_na',\n",
    "#  'markdown1_filled_na',\n",
    "#  'markdown2_filled_na',\n",
    "#  'markdown3_filled_na',\n",
    "#  'markdown4_filled_na',\n",
    "#  'markdown5_filled_na',\n",
    "#  'md1_present',\n",
    "#  'md2_present',\n",
    "#  'md3_present',\n",
    "#  'md4_present',\n",
    "#  'md5_present',\n",
    "#  'cpi_filled',\n",
    "#  'unemployment_filled',\n",
    "#  'store_relabel',\n",
    "#  'dept_relabel',\n",
    "#  'type_relabel',\n",
    "#  'week_of_year_relabel',\n",
    "#  'month_relabel',\n",
    "#  'is_holiday_relabel',\n",
    "#  'black_friday',\n",
    "#  'pre_christmas',\n",
    " 'store_1',\n",
    " 'store_10',\n",
    " 'store_11',\n",
    " 'store_12',\n",
    " 'store_13',\n",
    " 'store_14',\n",
    " 'store_15',\n",
    " 'store_16',\n",
    " 'store_17',\n",
    " 'store_18',\n",
    " 'store_19',\n",
    " 'store_2',\n",
    " 'store_20',\n",
    " 'store_21',\n",
    " 'store_22',\n",
    " 'store_23',\n",
    " 'store_24',\n",
    " 'store_25',\n",
    " 'store_26',\n",
    " 'store_27',\n",
    " 'store_28',\n",
    " 'store_29',\n",
    " 'store_3',\n",
    " 'store_30',\n",
    " 'store_31',\n",
    " 'store_32',\n",
    " 'store_33',\n",
    " 'store_34',\n",
    " 'store_35',\n",
    " 'store_36',\n",
    " 'store_37',\n",
    " 'store_38',\n",
    " 'store_39',\n",
    " 'store_4',\n",
    " 'store_40',\n",
    " 'store_41',\n",
    " 'store_42',\n",
    " 'store_43',\n",
    " 'store_44',\n",
    " 'store_45',\n",
    " 'store_5',\n",
    " 'store_6',\n",
    " 'store_7',\n",
    " 'store_8',\n",
    " 'store_9',\n",
    " 'dept_1',\n",
    " 'dept_10',\n",
    " 'dept_11',\n",
    " 'dept_12',\n",
    " 'dept_13',\n",
    " 'dept_14',\n",
    " 'dept_16',\n",
    " 'dept_17',\n",
    " 'dept_18',\n",
    " 'dept_19',\n",
    " 'dept_2',\n",
    " 'dept_20',\n",
    " 'dept_21',\n",
    " 'dept_22',\n",
    " 'dept_23',\n",
    " 'dept_24',\n",
    " 'dept_25',\n",
    " 'dept_26',\n",
    " 'dept_27',\n",
    " 'dept_28',\n",
    " 'dept_29',\n",
    " 'dept_3',\n",
    " 'dept_30',\n",
    " 'dept_31',\n",
    " 'dept_32',\n",
    " 'dept_33',\n",
    " 'dept_34',\n",
    " 'dept_35',\n",
    " 'dept_36',\n",
    " 'dept_37',\n",
    " 'dept_38',\n",
    " 'dept_39',\n",
    " 'dept_4',\n",
    " 'dept_40',\n",
    " 'dept_41',\n",
    " 'dept_42',\n",
    " 'dept_43',\n",
    " 'dept_44',\n",
    " 'dept_45',\n",
    " 'dept_46',\n",
    " 'dept_47',\n",
    " 'dept_48',\n",
    " 'dept_49',\n",
    " 'dept_5',\n",
    " 'dept_50',\n",
    " 'dept_51',\n",
    " 'dept_52',\n",
    " 'dept_54',\n",
    " 'dept_55',\n",
    " 'dept_56',\n",
    " 'dept_58',\n",
    " 'dept_59',\n",
    " 'dept_6',\n",
    " 'dept_60',\n",
    " 'dept_65',\n",
    " 'dept_67',\n",
    " 'dept_7',\n",
    " 'dept_71',\n",
    " 'dept_72',\n",
    " 'dept_74',\n",
    " 'dept_77',\n",
    " 'dept_78',\n",
    " 'dept_79',\n",
    " 'dept_8',\n",
    " 'dept_80',\n",
    " 'dept_81',\n",
    " 'dept_82',\n",
    " 'dept_83',\n",
    " 'dept_85',\n",
    " 'dept_87',\n",
    " 'dept_9',\n",
    " 'dept_90',\n",
    " 'dept_91',\n",
    " 'dept_92',\n",
    " 'dept_93',\n",
    " 'dept_94',\n",
    " 'dept_95',\n",
    " 'dept_96',\n",
    " 'dept_97',\n",
    " 'dept_98',\n",
    " 'dept_99',\n",
    " 'type_A',\n",
    " 'type_B',\n",
    " 'type_C',\n",
    " 'week_of_year_1',\n",
    " 'week_of_year_10',\n",
    " 'week_of_year_11',\n",
    " 'week_of_year_12',\n",
    " 'week_of_year_13',\n",
    " 'week_of_year_14',\n",
    " 'week_of_year_15',\n",
    " 'week_of_year_16',\n",
    " 'week_of_year_17',\n",
    " 'week_of_year_18',\n",
    " 'week_of_year_19',\n",
    " 'week_of_year_2',\n",
    " 'week_of_year_20',\n",
    " 'week_of_year_21',\n",
    " 'week_of_year_22',\n",
    " 'week_of_year_23',\n",
    " 'week_of_year_24',\n",
    " 'week_of_year_25',\n",
    " 'week_of_year_26',\n",
    " 'week_of_year_27',\n",
    " 'week_of_year_28',\n",
    " 'week_of_year_29',\n",
    " 'week_of_year_3',\n",
    " 'week_of_year_30',\n",
    " 'week_of_year_31',\n",
    " 'week_of_year_32',\n",
    " 'week_of_year_33',\n",
    " 'week_of_year_34',\n",
    " 'week_of_year_35',\n",
    " 'week_of_year_36',\n",
    " 'week_of_year_37',\n",
    " 'week_of_year_38',\n",
    " 'week_of_year_39',\n",
    " 'week_of_year_4',\n",
    " 'week_of_year_40',\n",
    " 'week_of_year_41',\n",
    " 'week_of_year_42',\n",
    " 'week_of_year_43',\n",
    " 'week_of_year_44',\n",
    " 'week_of_year_45',\n",
    " 'week_of_year_46',\n",
    " 'week_of_year_47',\n",
    " 'week_of_year_48',\n",
    " 'week_of_year_49',\n",
    " 'week_of_year_5',\n",
    " 'week_of_year_50',\n",
    " 'week_of_year_51',\n",
    " 'week_of_year_52',\n",
    " 'week_of_year_6',\n",
    " 'week_of_year_7',\n",
    " 'week_of_year_8',\n",
    " 'week_of_year_9',\n",
    " 'month_1',\n",
    " 'month_10',\n",
    " 'month_11',\n",
    " 'month_12',\n",
    " 'month_2',\n",
    " 'month_3',\n",
    " 'month_4',\n",
    " 'month_5',\n",
    " 'month_6',\n",
    " 'month_7',\n",
    " 'month_8',\n",
    " 'month_9',\n",
    " 'is_holiday_false',\n",
    " 'is_holiday_true',\n",
    " 'black_friday_no',\n",
    " 'black_friday_yes',\n",
    " 'pre_christmas_no',\n",
    " 'pre_christmas_yes',\n",
    "#  'median_sales',\n",
    "#  'median_sales_fillna',\n",
    "#  'previous_week',\n",
    "#  'next_week',\n",
    "#  'previous_weekly_sales',\n",
    " 'sales_diff',\n",
    "#  'weekly_sales_na_filled',\n",
    "#  'value_to_predict',\n",
    " 'lagged_available',\n",
    " 'previous_weekly_sales_scaled',\n",
    "#  'sales_diff_scaled',\n",
    " 'temperature_scaled',\n",
    " 'fuel_price_scaled',\n",
    " 'markdown1_filled_na_scaled',\n",
    " 'markdown2_filled_na_scaled',\n",
    " 'markdown3_filled_na_scaled',\n",
    " 'markdown4_filled_na_scaled',\n",
    " 'markdown5_filled_na_scaled',\n",
    " 'cpi_filled_scaled',\n",
    " 'unemployment_filled_scaled',\n",
    "               'median_sales_redone', 'prev_year_sales', 'pdt_pred']"
   ]
  },
  {
   "cell_type": "code",
   "execution_count": 22,
   "metadata": {},
   "outputs": [
    {
     "name": "stdout",
     "output_type": "stream",
     "text": [
      "(84314, 215)\n",
      "(84314,)\n"
     ]
    }
   ],
   "source": [
    "# Set seed for reproducability \n",
    "SEED = 42\n",
    "np.random.seed(SEED)\n",
    "X_train, X_val, y_train, y_val = train_test_split(train[wanted_X_col], \n",
    "                                                  train['value_to_predict'], \n",
    "                                                  test_size=0.2, \n",
    "                                                  random_state= SEED)\n",
    "print(X_val.shape)\n",
    "print(y_val.shape)"
   ]
  },
  {
   "cell_type": "code",
   "execution_count": 23,
   "metadata": {},
   "outputs": [],
   "source": [
    "X_test = test[wanted_X_col]"
   ]
  },
  {
   "cell_type": "code",
   "execution_count": 8,
   "metadata": {},
   "outputs": [
    {
     "data": {
      "text/html": [
       "<div>\n",
       "<style scoped>\n",
       "    .dataframe tbody tr th:only-of-type {\n",
       "        vertical-align: middle;\n",
       "    }\n",
       "\n",
       "    .dataframe tbody tr th {\n",
       "        vertical-align: top;\n",
       "    }\n",
       "\n",
       "    .dataframe thead th {\n",
       "        text-align: right;\n",
       "    }\n",
       "</style>\n",
       "<table border=\"1\" class=\"dataframe\">\n",
       "  <thead>\n",
       "    <tr style=\"text-align: right;\">\n",
       "      <th></th>\n",
       "      <th>size</th>\n",
       "      <th>store_1</th>\n",
       "      <th>store_10</th>\n",
       "      <th>store_11</th>\n",
       "      <th>store_12</th>\n",
       "      <th>store_13</th>\n",
       "      <th>store_14</th>\n",
       "      <th>store_15</th>\n",
       "      <th>store_16</th>\n",
       "      <th>store_17</th>\n",
       "      <th>...</th>\n",
       "      <th>previous_weekly_sales_scaled</th>\n",
       "      <th>temperature_scaled</th>\n",
       "      <th>fuel_price_scaled</th>\n",
       "      <th>markdown1_filled_na_scaled</th>\n",
       "      <th>markdown2_filled_na_scaled</th>\n",
       "      <th>markdown3_filled_na_scaled</th>\n",
       "      <th>markdown4_filled_na_scaled</th>\n",
       "      <th>markdown5_filled_na_scaled</th>\n",
       "      <th>cpi_filled_scaled</th>\n",
       "      <th>unemployment_filled_scaled</th>\n",
       "    </tr>\n",
       "  </thead>\n",
       "  <tbody>\n",
       "    <tr>\n",
       "      <th>count</th>\n",
       "      <td>337256.000000</td>\n",
       "      <td>337256.000000</td>\n",
       "      <td>337256.000000</td>\n",
       "      <td>337256.000000</td>\n",
       "      <td>337256.000000</td>\n",
       "      <td>337256.000000</td>\n",
       "      <td>337256.000000</td>\n",
       "      <td>337256.000000</td>\n",
       "      <td>337256.000000</td>\n",
       "      <td>337256.000000</td>\n",
       "      <td>...</td>\n",
       "      <td>337256.000000</td>\n",
       "      <td>337256.000000</td>\n",
       "      <td>337256.000000</td>\n",
       "      <td>337256.000000</td>\n",
       "      <td>337256.000000</td>\n",
       "      <td>337256.000000</td>\n",
       "      <td>337256.000000</td>\n",
       "      <td>337256.000000</td>\n",
       "      <td>337256.000000</td>\n",
       "      <td>337256.000000</td>\n",
       "    </tr>\n",
       "    <tr>\n",
       "      <th>mean</th>\n",
       "      <td>136811.628614</td>\n",
       "      <td>0.024255</td>\n",
       "      <td>0.024501</td>\n",
       "      <td>0.024011</td>\n",
       "      <td>0.023074</td>\n",
       "      <td>0.024865</td>\n",
       "      <td>0.023851</td>\n",
       "      <td>0.023306</td>\n",
       "      <td>0.022348</td>\n",
       "      <td>0.023424</td>\n",
       "      <td>...</td>\n",
       "      <td>0.000705</td>\n",
       "      <td>0.070674</td>\n",
       "      <td>-0.111870</td>\n",
       "      <td>-0.000549</td>\n",
       "      <td>-0.024504</td>\n",
       "      <td>-0.025401</td>\n",
       "      <td>0.007145</td>\n",
       "      <td>0.007754</td>\n",
       "      <td>-0.126769</td>\n",
       "      <td>0.108531</td>\n",
       "    </tr>\n",
       "    <tr>\n",
       "      <th>std</th>\n",
       "      <td>60981.743057</td>\n",
       "      <td>0.153839</td>\n",
       "      <td>0.154598</td>\n",
       "      <td>0.153085</td>\n",
       "      <td>0.150140</td>\n",
       "      <td>0.155715</td>\n",
       "      <td>0.152586</td>\n",
       "      <td>0.150873</td>\n",
       "      <td>0.147813</td>\n",
       "      <td>0.151247</td>\n",
       "      <td>...</td>\n",
       "      <td>1.002870</td>\n",
       "      <td>0.987031</td>\n",
       "      <td>1.064583</td>\n",
       "      <td>0.933848</td>\n",
       "      <td>0.976185</td>\n",
       "      <td>0.870869</td>\n",
       "      <td>0.955494</td>\n",
       "      <td>0.638715</td>\n",
       "      <td>0.949807</td>\n",
       "      <td>1.035236</td>\n",
       "    </tr>\n",
       "    <tr>\n",
       "      <th>min</th>\n",
       "      <td>34875.000000</td>\n",
       "      <td>0.000000</td>\n",
       "      <td>0.000000</td>\n",
       "      <td>0.000000</td>\n",
       "      <td>0.000000</td>\n",
       "      <td>0.000000</td>\n",
       "      <td>0.000000</td>\n",
       "      <td>0.000000</td>\n",
       "      <td>0.000000</td>\n",
       "      <td>0.000000</td>\n",
       "      <td>...</td>\n",
       "      <td>-0.923577</td>\n",
       "      <td>-3.256742</td>\n",
       "      <td>-2.173112</td>\n",
       "      <td>-0.954541</td>\n",
       "      <td>-0.361373</td>\n",
       "      <td>-0.143131</td>\n",
       "      <td>-0.500244</td>\n",
       "      <td>-0.391600</td>\n",
       "      <td>-1.221934</td>\n",
       "      <td>-2.159869</td>\n",
       "    </tr>\n",
       "    <tr>\n",
       "      <th>25%</th>\n",
       "      <td>93638.000000</td>\n",
       "      <td>0.000000</td>\n",
       "      <td>0.000000</td>\n",
       "      <td>0.000000</td>\n",
       "      <td>0.000000</td>\n",
       "      <td>0.000000</td>\n",
       "      <td>0.000000</td>\n",
       "      <td>0.000000</td>\n",
       "      <td>0.000000</td>\n",
       "      <td>0.000000</td>\n",
       "      <td>...</td>\n",
       "      <td>-0.611843</td>\n",
       "      <td>-0.646284</td>\n",
       "      <td>-1.105483</td>\n",
       "      <td>-0.590129</td>\n",
       "      <td>-0.321715</td>\n",
       "      <td>-0.133170</td>\n",
       "      <td>-0.445797</td>\n",
       "      <td>-0.221214</td>\n",
       "      <td>-1.077406</td>\n",
       "      <td>-0.486533</td>\n",
       "    </tr>\n",
       "    <tr>\n",
       "      <th>50%</th>\n",
       "      <td>140167.000000</td>\n",
       "      <td>0.000000</td>\n",
       "      <td>0.000000</td>\n",
       "      <td>0.000000</td>\n",
       "      <td>0.000000</td>\n",
       "      <td>0.000000</td>\n",
       "      <td>0.000000</td>\n",
       "      <td>0.000000</td>\n",
       "      <td>0.000000</td>\n",
       "      <td>0.000000</td>\n",
       "      <td>...</td>\n",
       "      <td>-0.368301</td>\n",
       "      <td>0.178719</td>\n",
       "      <td>0.101402</td>\n",
       "      <td>-0.228579</td>\n",
       "      <td>-0.304073</td>\n",
       "      <td>-0.130559</td>\n",
       "      <td>-0.288940</td>\n",
       "      <td>-0.093494</td>\n",
       "      <td>0.143311</td>\n",
       "      <td>0.055134</td>\n",
       "    </tr>\n",
       "    <tr>\n",
       "      <th>75%</th>\n",
       "      <td>202505.000000</td>\n",
       "      <td>0.000000</td>\n",
       "      <td>0.000000</td>\n",
       "      <td>0.000000</td>\n",
       "      <td>0.000000</td>\n",
       "      <td>0.000000</td>\n",
       "      <td>0.000000</td>\n",
       "      <td>0.000000</td>\n",
       "      <td>0.000000</td>\n",
       "      <td>0.000000</td>\n",
       "      <td>...</td>\n",
       "      <td>0.186111</td>\n",
       "      <td>0.829192</td>\n",
       "      <td>0.762867</td>\n",
       "      <td>0.229180</td>\n",
       "      <td>-0.198240</td>\n",
       "      <td>-0.121428</td>\n",
       "      <td>0.048027</td>\n",
       "      <td>0.092792</td>\n",
       "      <td>0.872564</td>\n",
       "      <td>0.447357</td>\n",
       "    </tr>\n",
       "    <tr>\n",
       "      <th>max</th>\n",
       "      <td>219622.000000</td>\n",
       "      <td>1.000000</td>\n",
       "      <td>1.000000</td>\n",
       "      <td>1.000000</td>\n",
       "      <td>1.000000</td>\n",
       "      <td>1.000000</td>\n",
       "      <td>1.000000</td>\n",
       "      <td>1.000000</td>\n",
       "      <td>1.000000</td>\n",
       "      <td>1.000000</td>\n",
       "      <td>...</td>\n",
       "      <td>29.841893</td>\n",
       "      <td>2.214726</td>\n",
       "      <td>2.459469</td>\n",
       "      <td>9.169701</td>\n",
       "      <td>14.875178</td>\n",
       "      <td>14.967527</td>\n",
       "      <td>10.202394</td>\n",
       "      <td>35.418318</td>\n",
       "      <td>1.231923</td>\n",
       "      <td>3.636805</td>\n",
       "    </tr>\n",
       "  </tbody>\n",
       "</table>\n",
       "<p>8 rows × 212 columns</p>\n",
       "</div>"
      ],
      "text/plain": [
       "                size        store_1       store_10       store_11  \\\n",
       "count  337256.000000  337256.000000  337256.000000  337256.000000   \n",
       "mean   136811.628614       0.024255       0.024501       0.024011   \n",
       "std     60981.743057       0.153839       0.154598       0.153085   \n",
       "min     34875.000000       0.000000       0.000000       0.000000   \n",
       "25%     93638.000000       0.000000       0.000000       0.000000   \n",
       "50%    140167.000000       0.000000       0.000000       0.000000   \n",
       "75%    202505.000000       0.000000       0.000000       0.000000   \n",
       "max    219622.000000       1.000000       1.000000       1.000000   \n",
       "\n",
       "            store_12       store_13       store_14       store_15  \\\n",
       "count  337256.000000  337256.000000  337256.000000  337256.000000   \n",
       "mean        0.023074       0.024865       0.023851       0.023306   \n",
       "std         0.150140       0.155715       0.152586       0.150873   \n",
       "min         0.000000       0.000000       0.000000       0.000000   \n",
       "25%         0.000000       0.000000       0.000000       0.000000   \n",
       "50%         0.000000       0.000000       0.000000       0.000000   \n",
       "75%         0.000000       0.000000       0.000000       0.000000   \n",
       "max         1.000000       1.000000       1.000000       1.000000   \n",
       "\n",
       "            store_16       store_17             ...              \\\n",
       "count  337256.000000  337256.000000             ...               \n",
       "mean        0.022348       0.023424             ...               \n",
       "std         0.147813       0.151247             ...               \n",
       "min         0.000000       0.000000             ...               \n",
       "25%         0.000000       0.000000             ...               \n",
       "50%         0.000000       0.000000             ...               \n",
       "75%         0.000000       0.000000             ...               \n",
       "max         1.000000       1.000000             ...               \n",
       "\n",
       "       previous_weekly_sales_scaled  temperature_scaled  fuel_price_scaled  \\\n",
       "count                 337256.000000       337256.000000      337256.000000   \n",
       "mean                       0.000705            0.070674          -0.111870   \n",
       "std                        1.002870            0.987031           1.064583   \n",
       "min                       -0.923577           -3.256742          -2.173112   \n",
       "25%                       -0.611843           -0.646284          -1.105483   \n",
       "50%                       -0.368301            0.178719           0.101402   \n",
       "75%                        0.186111            0.829192           0.762867   \n",
       "max                       29.841893            2.214726           2.459469   \n",
       "\n",
       "       markdown1_filled_na_scaled  markdown2_filled_na_scaled  \\\n",
       "count               337256.000000               337256.000000   \n",
       "mean                    -0.000549                   -0.024504   \n",
       "std                      0.933848                    0.976185   \n",
       "min                     -0.954541                   -0.361373   \n",
       "25%                     -0.590129                   -0.321715   \n",
       "50%                     -0.228579                   -0.304073   \n",
       "75%                      0.229180                   -0.198240   \n",
       "max                      9.169701                   14.875178   \n",
       "\n",
       "       markdown3_filled_na_scaled  markdown4_filled_na_scaled  \\\n",
       "count               337256.000000               337256.000000   \n",
       "mean                    -0.025401                    0.007145   \n",
       "std                      0.870869                    0.955494   \n",
       "min                     -0.143131                   -0.500244   \n",
       "25%                     -0.133170                   -0.445797   \n",
       "50%                     -0.130559                   -0.288940   \n",
       "75%                     -0.121428                    0.048027   \n",
       "max                     14.967527                   10.202394   \n",
       "\n",
       "       markdown5_filled_na_scaled  cpi_filled_scaled  \\\n",
       "count               337256.000000      337256.000000   \n",
       "mean                     0.007754          -0.126769   \n",
       "std                      0.638715           0.949807   \n",
       "min                     -0.391600          -1.221934   \n",
       "25%                     -0.221214          -1.077406   \n",
       "50%                     -0.093494           0.143311   \n",
       "75%                      0.092792           0.872564   \n",
       "max                     35.418318           1.231923   \n",
       "\n",
       "       unemployment_filled_scaled  \n",
       "count               337256.000000  \n",
       "mean                     0.108531  \n",
       "std                      1.035236  \n",
       "min                     -2.159869  \n",
       "25%                     -0.486533  \n",
       "50%                      0.055134  \n",
       "75%                      0.447357  \n",
       "max                      3.636805  \n",
       "\n",
       "[8 rows x 212 columns]"
      ]
     },
     "execution_count": 8,
     "metadata": {},
     "output_type": "execute_result"
    }
   ],
   "source": [
    "X_train.describe()"
   ]
  },
  {
   "cell_type": "markdown",
   "metadata": {},
   "source": [
    "# Neural Networks Implementation"
   ]
  },
  {
   "cell_type": "markdown",
   "metadata": {},
   "source": [
    "The following neural network implemention is from [here](https://www.kaggle.com/fernandol/cracking-the-walmart-sales-forecasting-challenge?scriptVersionId=3025467)."
   ]
  },
  {
   "cell_type": "code",
   "execution_count": 206,
   "metadata": {},
   "outputs": [
    {
     "data": {
      "text/plain": [
       "(337256, 212)"
      ]
     },
     "execution_count": 206,
     "metadata": {},
     "output_type": "execute_result"
    }
   ],
   "source": [
    "X_train.shape"
   ]
  },
  {
   "cell_type": "code",
   "execution_count": 207,
   "metadata": {},
   "outputs": [
    {
     "data": {
      "text/plain": [
       "212"
      ]
     },
     "execution_count": 207,
     "metadata": {},
     "output_type": "execute_result"
    }
   ],
   "source": [
    "X_train.shape[1]"
   ]
  },
  {
   "cell_type": "code",
   "execution_count": 24,
   "metadata": {},
   "outputs": [
    {
     "name": "stdout",
     "output_type": "stream",
     "text": [
      "Train on 337256 samples, validate on 84314 samples\n",
      "Epoch 1/1000\n",
      "337256/337256 [==============================] - 7s 21us/step - loss: 1532.0240 - acc: 1.0378e-04 - val_loss: 1327.2781 - val_acc: 5.9302e-05\n",
      "Epoch 2/1000\n",
      "337256/337256 [==============================] - 6s 18us/step - loss: 1317.1984 - acc: 1.3936e-04 - val_loss: 1309.7527 - val_acc: 9.4883e-05\n",
      "Epoch 3/1000\n",
      "337256/337256 [==============================] - 6s 19us/step - loss: 1291.0151 - acc: 1.6605e-04 - val_loss: 1274.8830 - val_acc: 9.4883e-05\n",
      "Epoch 4/1000\n",
      "337256/337256 [==============================] - 6s 19us/step - loss: 1281.2584 - acc: 1.6901e-04 - val_loss: 1280.4329 - val_acc: 5.9302e-05\n",
      "Epoch 5/1000\n",
      "337256/337256 [==============================] - 6s 19us/step - loss: 1279.3867 - acc: 1.5715e-04 - val_loss: 1265.1060 - val_acc: 9.4883e-05\n",
      "Epoch 6/1000\n",
      "337256/337256 [==============================] - 6s 19us/step - loss: 1267.6994 - acc: 1.4529e-04 - val_loss: 1255.1167 - val_acc: 7.8279e-04\n",
      "Epoch 7/1000\n",
      "337256/337256 [==============================] - 6s 19us/step - loss: 1269.2081 - acc: 9.7849e-05 - val_loss: 1262.1972 - val_acc: 1.3046e-04\n",
      "Epoch 8/1000\n",
      "337256/337256 [==============================] - 7s 22us/step - loss: 1259.6221 - acc: 1.0674e-04 - val_loss: 1249.6757 - val_acc: 4.0325e-04\n",
      "Epoch 9/1000\n",
      "337256/337256 [==============================] - 7s 20us/step - loss: 1257.0596 - acc: 2.2238e-04 - val_loss: 1253.5945 - val_acc: 4.6256e-04\n",
      "Epoch 10/1000\n",
      "337256/337256 [==============================] - 6s 19us/step - loss: 1253.2724 - acc: 2.3721e-04 - val_loss: 1249.0583 - val_acc: 2.2535e-04\n",
      "Epoch 11/1000\n",
      "337256/337256 [==============================] - 7s 19us/step - loss: 1252.7091 - acc: 2.1052e-04 - val_loss: 1253.6915 - val_acc: 5.5744e-04\n",
      "Epoch 12/1000\n",
      "337256/337256 [==============================] - 6s 19us/step - loss: 1251.3177 - acc: 1.6012e-04 - val_loss: 1248.4726 - val_acc: 1.4233e-04\n",
      "Epoch 13/1000\n",
      "337256/337256 [==============================] - 7s 20us/step - loss: 1250.9677 - acc: 1.8680e-04 - val_loss: 1260.2996 - val_acc: 3.5581e-05\n",
      "Epoch 14/1000\n",
      "337256/337256 [==============================] - 6s 19us/step - loss: 1251.0598 - acc: 1.9273e-04 - val_loss: 1265.1089 - val_acc: 2.3721e-05\n",
      "Epoch 15/1000\n",
      "337256/337256 [==============================] - 6s 19us/step - loss: 1250.6621 - acc: 1.6901e-04 - val_loss: 1245.5401 - val_acc: 6.8790e-04\n",
      "Epoch 16/1000\n",
      "337256/337256 [==============================] - 7s 20us/step - loss: 1252.0747 - acc: 1.9273e-04 - val_loss: 1244.0304 - val_acc: 2.8465e-04\n",
      "Epoch 17/1000\n",
      "337256/337256 [==============================] - 6s 19us/step - loss: 1243.7295 - acc: 2.2831e-04 - val_loss: 1250.5532 - val_acc: 1.0674e-04\n",
      "Epoch 18/1000\n",
      "337256/337256 [==============================] - 6s 19us/step - loss: 1243.4663 - acc: 2.2238e-04 - val_loss: 1246.6303 - val_acc: 9.4883e-05\n",
      "Epoch 19/1000\n",
      "337256/337256 [==============================] - 6s 19us/step - loss: 1240.5868 - acc: 2.9355e-04 - val_loss: 1244.6154 - val_acc: 1.4233e-04\n",
      "Epoch 20/1000\n",
      "337256/337256 [==============================] - 7s 19us/step - loss: 1240.9865 - acc: 2.2831e-04 - val_loss: 1252.8042 - val_acc: 9.4883e-05\n",
      "Epoch 21/1000\n",
      "337256/337256 [==============================] - 6s 19us/step - loss: 1240.9050 - acc: 2.6093e-04 - val_loss: 1252.1606 - val_acc: 1.0674e-04\n",
      "84314/84314 [==============================] - 2s 21us/step\n"
     ]
    },
    {
     "data": {
      "text/plain": [
       "[1252.1606324304878, 0.00010674383850843276]"
      ]
     },
     "execution_count": 24,
     "metadata": {},
     "output_type": "execute_result"
    }
   ],
   "source": [
    "# Sequential model\n",
    "adam_regularized = Sequential()\n",
    "\n",
    "# First hidden layer now regularized\n",
    "adam_regularized.add(Dense(212, activation='relu',\n",
    "                input_dim=X_train.shape[1]))\n",
    "\n",
    "# Second hidden layer now regularized\n",
    "adam_regularized.add(Dense(106, activation='relu'))\n",
    "\n",
    "# Third hidden layer now regularized\n",
    "adam_regularized.add(Dense(53, activation='relu'))\n",
    "\n",
    "# Output layer stayed sigmoid\n",
    "adam_regularized.add(Dense(1))\n",
    "\n",
    "# Setup adam optimizer\n",
    "adam_optimizer=keras.optimizers.Adam(lr=0.01,\n",
    "                beta_1=0.9, \n",
    "                beta_2=0.999, \n",
    "                epsilon=1e-08)\n",
    "\n",
    "# Compile the model\n",
    "adam_regularized.compile(optimizer='adam',\n",
    "              loss='mean_absolute_error',\n",
    "              metrics=['acc'])\n",
    "\n",
    "# early stopping\n",
    "early_stopping_monitor = EarlyStopping(patience = 5)\n",
    "\n",
    "# Train\n",
    "history_adam_regularized=adam_regularized.fit(X_train, y_train, # Train on training set\n",
    "                             epochs=1000, # We will train over 1,000 epochs\n",
    "                             batch_size=2048, # Batch size \n",
    "                             verbose=1, \n",
    "                             callbacks = [early_stopping_monitor],\n",
    "                             validation_data = (X_val, y_val)) # early stop fitting if no improvement in 5 epochs\n",
    "\n",
    "adam_regularized.evaluate(x=X_val,y=y_val)"
   ]
  },
  {
   "cell_type": "code",
   "execution_count": 25,
   "metadata": {},
   "outputs": [
    {
     "data": {
      "image/png": "[encoded data removed]",
      "text/plain": [
       "<Figure size 432x288 with 1 Axes>"
      ]
     },
     "metadata": {
      "needs_background": "light"
     },
     "output_type": "display_data"
    }
   ],
   "source": [
    "plt.plot(history_adam_regularized.history['loss'])\n",
    "plt.plot(history_adam_regularized.history['val_loss'])\n",
    "plt.title('Model loss')\n",
    "plt.ylabel('Loss')\n",
    "plt.xlabel('Epoch')\n",
    "plt.legend(['Train', 'Validation'], loc='upper left')\n",
    "plt.show()"
   ]
  },
  {
   "cell_type": "markdown",
   "metadata": {},
   "source": [
    "# K Nearest Neighbor Regression"
   ]
  },
  {
   "cell_type": "code",
   "execution_count": 248,
   "metadata": {},
   "outputs": [
    {
     "name": "stdout",
     "output_type": "stream",
     "text": [
      "val set mae of knn: 1637.178\n"
     ]
    }
   ],
   "source": [
    "# KNN (no parameter tuning)\n",
    "\n",
    "# Instantiate knn\n",
    "knn = KNeighborsRegressor(n_neighbors=10, n_jobs = -1)\n",
    "\n",
    "# Fit knn to the training set\n",
    "knn.fit(X_train, y_train)\n",
    "\n",
    "# Predict val set labels\n",
    "y_pred_knn = knn.predict(X_val)\n",
    "\n",
    "# Compute val set mae\n",
    "mae_val_knn = mean_absolute_error(y_val, y_pred_knn)\n",
    "\n",
    "# Print mae_val\n",
    "print('val set mae of knn: {:.3f}'.format(mae_val_knn))"
   ]
  },
  {
   "cell_type": "markdown",
   "metadata": {},
   "source": [
    "# Stochastic Gradient Boosting"
   ]
  },
  {
   "cell_type": "code",
   "execution_count": 44,
   "metadata": {},
   "outputs": [
    {
     "name": "stdout",
     "output_type": "stream",
     "text": [
      "val set mae of xgbr: 1313.556\n"
     ]
    }
   ],
   "source": [
    "# stochastic gradient boosting regressor using xgboost (no parameter tuning)\n",
    "\n",
    "# Instantiate xgbr\n",
    "xgbr = xgb.XGBRegressor(subsample=0.9,\n",
    "            colsample_bytree=0.75,\n",
    "            random_state=SEED, n_jobs = -1)\n",
    "\n",
    "# Fit xgbr to the training set\n",
    "xgbr.fit(X_train, y_train)\n",
    "\n",
    "# Predict val set labels\n",
    "y_pred_xgbr = xgbr.predict(X_val)\n",
    "\n",
    "# Compute val set mae\n",
    "mae_val_xgbr = mean_absolute_error(y_val, y_pred_xgbr)\n",
    "\n",
    "# Print mae_val\n",
    "print('val set mae of xgbr: {:.3f}'.format(mae_val_xgbr))"
   ]
  },
  {
   "cell_type": "markdown",
   "metadata": {},
   "source": [
    "# Random Forest Regression"
   ]
  },
  {
   "cell_type": "code",
   "execution_count": 45,
   "metadata": {},
   "outputs": [
    {
     "name": "stderr",
     "output_type": "stream",
     "text": [
      "[Parallel(n_jobs=-1)]: Done  10 out of  10 | elapsed:  3.3min finished\n"
     ]
    },
    {
     "name": "stdout",
     "output_type": "stream",
     "text": [
      "Test set mae of rf: 1172.648\n"
     ]
    },
    {
     "name": "stderr",
     "output_type": "stream",
     "text": [
      "[Parallel(n_jobs=4)]: Done  10 out of  10 | elapsed:    0.5s finished\n"
     ]
    }
   ],
   "source": [
    "#  random forest (no hyperparameter tuning)\n",
    "\n",
    "# Instantiate rf\n",
    "rf = RandomForestRegressor(random_state=SEED, n_jobs = -1, verbose = 1, n_estimators = 10)\n",
    "\n",
    "# Fit rf to the training set\n",
    "rf.fit(X_train, y_train)\n",
    "\n",
    "# Predict test set labels\n",
    "y_pred_rf = rf.predict(X_val)\n",
    "\n",
    "# Compute mae\n",
    "mae_test_rf = mean_absolute_error(y_val, y_pred_rf)\n",
    "\n",
    "# Print mae\n",
    "print('Test set mae of rf: {:.3f}'.format(mae_test_rf))"
   ]
  },
  {
   "cell_type": "code",
   "execution_count": 29,
   "metadata": {},
   "outputs": [],
   "source": [
    "# save model\n",
    "pickle.dump(rf, open('../models/rf.sav', 'wb'))"
   ]
  },
  {
   "cell_type": "markdown",
   "metadata": {},
   "source": [
    "# Support Vector Regression"
   ]
  },
  {
   "cell_type": "code",
   "execution_count": null,
   "metadata": {},
   "outputs": [],
   "source": [
    "#  support vector regression (no hyperparameter tuning)\n",
    "\n",
    "# Instantiate svr\n",
    "svr = SVR(kernel='rbf', gamma='auto')\n",
    "\n",
    "# Fit svr to the training set\n",
    "svr.fit(X_train, y_train)\n",
    "\n",
    "# save model\n",
    "pickle.dump(svr, open('../models/svr.sav', 'wb'))\n",
    "\n",
    "# Predict test set labels\n",
    "y_pred_svr = svr.predict(X_val)\n",
    "\n",
    "# Compute mae\n",
    "mae_test_svr = mean_absolute_error(y_val, y_pred_svr)\n",
    "\n",
    "# Print mae\n",
    "print('Test set mae of svr: {:.3f}'.format(mae_test_svr))"
   ]
  },
  {
   "cell_type": "markdown",
   "metadata": {},
   "source": [
    "# Extra Trees Regression"
   ]
  },
  {
   "cell_type": "code",
   "execution_count": 9,
   "metadata": {},
   "outputs": [
    {
     "name": "stderr",
     "output_type": "stream",
     "text": [
      "[Parallel(n_jobs=-1)]: Done  42 tasks      | elapsed: 14.9min\n",
      "[Parallel(n_jobs=-1)]: Done 100 out of 100 | elapsed: 32.9min finished\n",
      "[Parallel(n_jobs=4)]: Done  42 tasks      | elapsed:    4.0s\n"
     ]
    },
    {
     "name": "stdout",
     "output_type": "stream",
     "text": [
      "Test set mae of etr: 1031.892\n"
     ]
    },
    {
     "name": "stderr",
     "output_type": "stream",
     "text": [
      "[Parallel(n_jobs=4)]: Done 100 out of 100 | elapsed:    7.1s finished\n"
     ]
    }
   ],
   "source": [
    "#  extra trees regression (no hyperparameter tuning)\n",
    "\n",
    "# Instantiate etr\n",
    "etr = ExtraTreesRegressor(n_estimators=100, max_features='auto', verbose=1, n_jobs = -1)\n",
    "\n",
    "# Fit etr to the training set\n",
    "etr.fit(X_train, y_train)\n",
    "\n",
    "# save model\n",
    "# pickle.dump(etr, open('../models/etr.sav', 'wb'))\n",
    "\n",
    "# Predict test set labels\n",
    "y_pred_etr = etr.predict(X_val)\n",
    "\n",
    "# Compute mae\n",
    "mae_test_etr = mean_absolute_error(y_val, y_pred_etr)\n",
    "\n",
    "# Print mae\n",
    "print('Test set mae of etr: {:.3f}'.format(mae_test_etr))"
   ]
  },
  {
   "cell_type": "markdown",
   "metadata": {},
   "source": [
    "# Elastic Net Regression"
   ]
  },
  {
   "cell_type": "code",
   "execution_count": 224,
   "metadata": {},
   "outputs": [
    {
     "name": "stdout",
     "output_type": "stream",
     "text": [
      "val mae of best model: 1576.881\n"
     ]
    }
   ],
   "source": [
    "# Elastic Net (no hyperparameter tuning)\n",
    "\n",
    "# set up the pipeline steps: steps\n",
    "steps = [('st_scaler', StandardScaler()),\n",
    "         ('enet', ElasticNet(random_state = SEED))]\n",
    "\n",
    "enet_pipeline = Pipeline(steps)\n",
    "\n",
    "# fit to the training data\n",
    "enet_pipeline.fit(X_train, y_train)\n",
    "\n",
    "# predict the val set labels\n",
    "y_pred_enet = enet_pipeline.predict(X_val)\n",
    "\n",
    "# Compute mae_val\n",
    "mae_val_enet = mean_absolute_error(y_val, y_pred_enet)\n",
    "\n",
    "# Print mae_val\n",
    "print('val mae of best model: {:.3f}'.format(mae_val_enet))"
   ]
  },
  {
   "cell_type": "markdown",
   "metadata": {},
   "source": [
    "# Predict Using Best Model"
   ]
  },
  {
   "cell_type": "code",
   "execution_count": 64,
   "metadata": {},
   "outputs": [],
   "source": [
    "y_pred = xgbr.predict(X_test)"
   ]
  },
  {
   "cell_type": "code",
   "execution_count": 65,
   "metadata": {},
   "outputs": [
    {
     "data": {
      "text/plain": [
       "array([-2897.2427 ,  -279.267  ,  -279.267  , ...,    96.5334 ,\n",
       "          96.5334 ,  -104.81075], dtype=float32)"
      ]
     },
     "execution_count": 65,
     "metadata": {},
     "output_type": "execute_result"
    }
   ],
   "source": [
    "y_pred"
   ]
  },
  {
   "cell_type": "code",
   "execution_count": 66,
   "metadata": {},
   "outputs": [],
   "source": [
    "y_pred_df = pd.DataFrame(y_pred)"
   ]
  },
  {
   "cell_type": "code",
   "execution_count": 67,
   "metadata": {},
   "outputs": [],
   "source": [
    "y_pred_df.columns = ['predicted_difference']"
   ]
  },
  {
   "cell_type": "code",
   "execution_count": 68,
   "metadata": {},
   "outputs": [
    {
     "data": {
      "text/plain": [
       "(115064, 1)"
      ]
     },
     "execution_count": 68,
     "metadata": {},
     "output_type": "execute_result"
    }
   ],
   "source": [
    "y_pred_df.shape"
   ]
  },
  {
   "cell_type": "code",
   "execution_count": 69,
   "metadata": {},
   "outputs": [
    {
     "data": {
      "text/plain": [
       "predicted_difference    0\n",
       "dtype: int64"
      ]
     },
     "execution_count": 69,
     "metadata": {},
     "output_type": "execute_result"
    }
   ],
   "source": [
    "y_pred_df.isnull().sum()"
   ]
  },
  {
   "cell_type": "code",
   "execution_count": 70,
   "metadata": {},
   "outputs": [],
   "source": [
    "test_file = pd.concat([test.reset_index(drop=True), y_pred_df], axis=1)"
   ]
  },
  {
   "cell_type": "code",
   "execution_count": 71,
   "metadata": {},
   "outputs": [
    {
     "data": {
      "text/html": [
       "<div>\n",
       "<style scoped>\n",
       "    .dataframe tbody tr th:only-of-type {\n",
       "        vertical-align: middle;\n",
       "    }\n",
       "\n",
       "    .dataframe tbody tr th {\n",
       "        vertical-align: top;\n",
       "    }\n",
       "\n",
       "    .dataframe thead th {\n",
       "        text-align: right;\n",
       "    }\n",
       "</style>\n",
       "<table border=\"1\" class=\"dataframe\">\n",
       "  <thead>\n",
       "    <tr style=\"text-align: right;\">\n",
       "      <th></th>\n",
       "      <th>type</th>\n",
       "      <th>dept</th>\n",
       "      <th>store</th>\n",
       "      <th>month</th>\n",
       "      <th>is_holiday</th>\n",
       "      <th>week_of_year</th>\n",
       "      <th>date</th>\n",
       "      <th>weekly_sales</th>\n",
       "      <th>temperature</th>\n",
       "      <th>fuel_price</th>\n",
       "      <th>...</th>\n",
       "      <th>markdown2_filled_na_scaled</th>\n",
       "      <th>markdown3_filled_na_scaled</th>\n",
       "      <th>markdown4_filled_na_scaled</th>\n",
       "      <th>markdown5_filled_na_scaled</th>\n",
       "      <th>cpi_filled_scaled</th>\n",
       "      <th>unemployment_filled_scaled</th>\n",
       "      <th>median_sales_redone</th>\n",
       "      <th>prev_year_sales</th>\n",
       "      <th>pdt_pred</th>\n",
       "      <th>predicted_difference</th>\n",
       "    </tr>\n",
       "  </thead>\n",
       "  <tbody>\n",
       "    <tr>\n",
       "      <th>0</th>\n",
       "      <td>A</td>\n",
       "      <td>1</td>\n",
       "      <td>1</td>\n",
       "      <td>11</td>\n",
       "      <td>f</td>\n",
       "      <td>44</td>\n",
       "      <td>2012-11-02</td>\n",
       "      <td>0.0</td>\n",
       "      <td>55.32</td>\n",
       "      <td>3.386</td>\n",
       "      <td>...</td>\n",
       "      <td>0.425783</td>\n",
       "      <td>-0.128456</td>\n",
       "      <td>0.077105</td>\n",
       "      <td>-0.137293</td>\n",
       "      <td>1.140481</td>\n",
       "      <td>-0.6632</td>\n",
       "      <td>18870.10</td>\n",
       "      <td>39886.06</td>\n",
       "      <td>0.0</td>\n",
       "      <td>-2897.242676</td>\n",
       "    </tr>\n",
       "    <tr>\n",
       "      <th>1</th>\n",
       "      <td>A</td>\n",
       "      <td>1</td>\n",
       "      <td>1</td>\n",
       "      <td>11</td>\n",
       "      <td>f</td>\n",
       "      <td>45</td>\n",
       "      <td>2012-11-09</td>\n",
       "      <td>0.0</td>\n",
       "      <td>61.24</td>\n",
       "      <td>3.314</td>\n",
       "      <td>...</td>\n",
       "      <td>0.167422</td>\n",
       "      <td>-0.129561</td>\n",
       "      <td>0.236814</td>\n",
       "      <td>0.175888</td>\n",
       "      <td>1.140930</td>\n",
       "      <td>-0.6632</td>\n",
       "      <td>18870.10</td>\n",
       "      <td>18689.54</td>\n",
       "      <td>0.0</td>\n",
       "      <td>-279.266998</td>\n",
       "    </tr>\n",
       "    <tr>\n",
       "      <th>2</th>\n",
       "      <td>A</td>\n",
       "      <td>1</td>\n",
       "      <td>1</td>\n",
       "      <td>11</td>\n",
       "      <td>f</td>\n",
       "      <td>46</td>\n",
       "      <td>2012-11-16</td>\n",
       "      <td>0.0</td>\n",
       "      <td>52.92</td>\n",
       "      <td>3.252</td>\n",
       "      <td>...</td>\n",
       "      <td>-0.280257</td>\n",
       "      <td>-0.122902</td>\n",
       "      <td>-0.320508</td>\n",
       "      <td>0.217917</td>\n",
       "      <td>1.141697</td>\n",
       "      <td>-0.6632</td>\n",
       "      <td>18870.10</td>\n",
       "      <td>19050.66</td>\n",
       "      <td>0.0</td>\n",
       "      <td>-279.266998</td>\n",
       "    </tr>\n",
       "    <tr>\n",
       "      <th>3</th>\n",
       "      <td>A</td>\n",
       "      <td>1</td>\n",
       "      <td>1</td>\n",
       "      <td>11</td>\n",
       "      <td>t</td>\n",
       "      <td>47</td>\n",
       "      <td>2012-11-23</td>\n",
       "      <td>0.0</td>\n",
       "      <td>56.23</td>\n",
       "      <td>3.211</td>\n",
       "      <td>...</td>\n",
       "      <td>-0.322124</td>\n",
       "      <td>7.721394</td>\n",
       "      <td>-0.466949</td>\n",
       "      <td>-0.360404</td>\n",
       "      <td>1.142886</td>\n",
       "      <td>-0.6632</td>\n",
       "      <td>18820.29</td>\n",
       "      <td>20911.25</td>\n",
       "      <td>0.0</td>\n",
       "      <td>-328.704651</td>\n",
       "    </tr>\n",
       "    <tr>\n",
       "      <th>4</th>\n",
       "      <td>A</td>\n",
       "      <td>1</td>\n",
       "      <td>1</td>\n",
       "      <td>12</td>\n",
       "      <td>t</td>\n",
       "      <td>52</td>\n",
       "      <td>2012-12-28</td>\n",
       "      <td>0.0</td>\n",
       "      <td>44.79</td>\n",
       "      <td>3.108</td>\n",
       "      <td>...</td>\n",
       "      <td>5.072046</td>\n",
       "      <td>-0.115457</td>\n",
       "      <td>-0.488434</td>\n",
       "      <td>-0.277402</td>\n",
       "      <td>1.152551</td>\n",
       "      <td>-0.6632</td>\n",
       "      <td>19124.58</td>\n",
       "      <td>23350.88</td>\n",
       "      <td>0.0</td>\n",
       "      <td>-279.266998</td>\n",
       "    </tr>\n",
       "  </tbody>\n",
       "</table>\n",
       "<p>5 rows × 272 columns</p>\n",
       "</div>"
      ],
      "text/plain": [
       "  type  dept  store  month is_holiday  week_of_year        date  weekly_sales  \\\n",
       "0    A     1      1     11          f            44  2012-11-02           0.0   \n",
       "1    A     1      1     11          f            45  2012-11-09           0.0   \n",
       "2    A     1      1     11          f            46  2012-11-16           0.0   \n",
       "3    A     1      1     11          t            47  2012-11-23           0.0   \n",
       "4    A     1      1     12          t            52  2012-12-28           0.0   \n",
       "\n",
       "   temperature  fuel_price          ...           markdown2_filled_na_scaled  \\\n",
       "0        55.32       3.386          ...                             0.425783   \n",
       "1        61.24       3.314          ...                             0.167422   \n",
       "2        52.92       3.252          ...                            -0.280257   \n",
       "3        56.23       3.211          ...                            -0.322124   \n",
       "4        44.79       3.108          ...                             5.072046   \n",
       "\n",
       "   markdown3_filled_na_scaled  markdown4_filled_na_scaled  \\\n",
       "0                   -0.128456                    0.077105   \n",
       "1                   -0.129561                    0.236814   \n",
       "2                   -0.122902                   -0.320508   \n",
       "3                    7.721394                   -0.466949   \n",
       "4                   -0.115457                   -0.488434   \n",
       "\n",
       "   markdown5_filled_na_scaled  cpi_filled_scaled  unemployment_filled_scaled  \\\n",
       "0                   -0.137293           1.140481                     -0.6632   \n",
       "1                    0.175888           1.140930                     -0.6632   \n",
       "2                    0.217917           1.141697                     -0.6632   \n",
       "3                   -0.360404           1.142886                     -0.6632   \n",
       "4                   -0.277402           1.152551                     -0.6632   \n",
       "\n",
       "   median_sales_redone  prev_year_sales pdt_pred  predicted_difference  \n",
       "0             18870.10         39886.06      0.0          -2897.242676  \n",
       "1             18870.10         18689.54      0.0           -279.266998  \n",
       "2             18870.10         19050.66      0.0           -279.266998  \n",
       "3             18820.29         20911.25      0.0           -328.704651  \n",
       "4             19124.58         23350.88      0.0           -279.266998  \n",
       "\n",
       "[5 rows x 272 columns]"
      ]
     },
     "execution_count": 71,
     "metadata": {},
     "output_type": "execute_result"
    }
   ],
   "source": [
    "test_file.head()"
   ]
  },
  {
   "cell_type": "code",
   "execution_count": 72,
   "metadata": {},
   "outputs": [],
   "source": [
    "# test_file['prediction'] = test_file['predicted_difference']\n",
    "test_file['prediction'] = test_file['median_sales_fillna'] - test_file['predicted_difference']"
   ]
  },
  {
   "cell_type": "code",
   "execution_count": 73,
   "metadata": {},
   "outputs": [
    {
     "data": {
      "text/plain": [
       "0"
      ]
     },
     "execution_count": 73,
     "metadata": {},
     "output_type": "execute_result"
    }
   ],
   "source": [
    "test_file['prediction'].isnull().sum()"
   ]
  },
  {
   "cell_type": "code",
   "execution_count": 74,
   "metadata": {},
   "outputs": [
    {
     "data": {
      "text/html": [
       "<div>\n",
       "<style scoped>\n",
       "    .dataframe tbody tr th:only-of-type {\n",
       "        vertical-align: middle;\n",
       "    }\n",
       "\n",
       "    .dataframe tbody tr th {\n",
       "        vertical-align: top;\n",
       "    }\n",
       "\n",
       "    .dataframe thead th {\n",
       "        text-align: right;\n",
       "    }\n",
       "</style>\n",
       "<table border=\"1\" class=\"dataframe\">\n",
       "  <thead>\n",
       "    <tr style=\"text-align: right;\">\n",
       "      <th></th>\n",
       "      <th>type</th>\n",
       "      <th>dept</th>\n",
       "      <th>store</th>\n",
       "      <th>month</th>\n",
       "      <th>is_holiday</th>\n",
       "      <th>week_of_year</th>\n",
       "      <th>date</th>\n",
       "      <th>weekly_sales</th>\n",
       "      <th>temperature</th>\n",
       "      <th>fuel_price</th>\n",
       "      <th>...</th>\n",
       "      <th>markdown3_filled_na_scaled</th>\n",
       "      <th>markdown4_filled_na_scaled</th>\n",
       "      <th>markdown5_filled_na_scaled</th>\n",
       "      <th>cpi_filled_scaled</th>\n",
       "      <th>unemployment_filled_scaled</th>\n",
       "      <th>median_sales_redone</th>\n",
       "      <th>prev_year_sales</th>\n",
       "      <th>pdt_pred</th>\n",
       "      <th>predicted_difference</th>\n",
       "      <th>prediction</th>\n",
       "    </tr>\n",
       "  </thead>\n",
       "  <tbody>\n",
       "    <tr>\n",
       "      <th>0</th>\n",
       "      <td>A</td>\n",
       "      <td>1</td>\n",
       "      <td>1</td>\n",
       "      <td>11</td>\n",
       "      <td>f</td>\n",
       "      <td>44</td>\n",
       "      <td>2012-11-02</td>\n",
       "      <td>0.0</td>\n",
       "      <td>55.32</td>\n",
       "      <td>3.386</td>\n",
       "      <td>...</td>\n",
       "      <td>-0.128456</td>\n",
       "      <td>0.077105</td>\n",
       "      <td>-0.137293</td>\n",
       "      <td>1.140481</td>\n",
       "      <td>-0.6632</td>\n",
       "      <td>18870.10</td>\n",
       "      <td>39886.06</td>\n",
       "      <td>0.0</td>\n",
       "      <td>-2897.242676</td>\n",
       "      <td>22448.357676</td>\n",
       "    </tr>\n",
       "    <tr>\n",
       "      <th>1</th>\n",
       "      <td>A</td>\n",
       "      <td>1</td>\n",
       "      <td>1</td>\n",
       "      <td>11</td>\n",
       "      <td>f</td>\n",
       "      <td>45</td>\n",
       "      <td>2012-11-09</td>\n",
       "      <td>0.0</td>\n",
       "      <td>61.24</td>\n",
       "      <td>3.314</td>\n",
       "      <td>...</td>\n",
       "      <td>-0.129561</td>\n",
       "      <td>0.236814</td>\n",
       "      <td>0.175888</td>\n",
       "      <td>1.140930</td>\n",
       "      <td>-0.6632</td>\n",
       "      <td>18870.10</td>\n",
       "      <td>18689.54</td>\n",
       "      <td>0.0</td>\n",
       "      <td>-279.266998</td>\n",
       "      <td>19830.381998</td>\n",
       "    </tr>\n",
       "    <tr>\n",
       "      <th>2</th>\n",
       "      <td>A</td>\n",
       "      <td>1</td>\n",
       "      <td>1</td>\n",
       "      <td>11</td>\n",
       "      <td>f</td>\n",
       "      <td>46</td>\n",
       "      <td>2012-11-16</td>\n",
       "      <td>0.0</td>\n",
       "      <td>52.92</td>\n",
       "      <td>3.252</td>\n",
       "      <td>...</td>\n",
       "      <td>-0.122902</td>\n",
       "      <td>-0.320508</td>\n",
       "      <td>0.217917</td>\n",
       "      <td>1.141697</td>\n",
       "      <td>-0.6632</td>\n",
       "      <td>18870.10</td>\n",
       "      <td>19050.66</td>\n",
       "      <td>0.0</td>\n",
       "      <td>-279.266998</td>\n",
       "      <td>19830.381998</td>\n",
       "    </tr>\n",
       "    <tr>\n",
       "      <th>3</th>\n",
       "      <td>A</td>\n",
       "      <td>1</td>\n",
       "      <td>1</td>\n",
       "      <td>11</td>\n",
       "      <td>t</td>\n",
       "      <td>47</td>\n",
       "      <td>2012-11-23</td>\n",
       "      <td>0.0</td>\n",
       "      <td>56.23</td>\n",
       "      <td>3.211</td>\n",
       "      <td>...</td>\n",
       "      <td>7.721394</td>\n",
       "      <td>-0.466949</td>\n",
       "      <td>-0.360404</td>\n",
       "      <td>1.142886</td>\n",
       "      <td>-0.6632</td>\n",
       "      <td>18820.29</td>\n",
       "      <td>20911.25</td>\n",
       "      <td>0.0</td>\n",
       "      <td>-328.704651</td>\n",
       "      <td>20194.474651</td>\n",
       "    </tr>\n",
       "    <tr>\n",
       "      <th>4</th>\n",
       "      <td>A</td>\n",
       "      <td>1</td>\n",
       "      <td>1</td>\n",
       "      <td>12</td>\n",
       "      <td>t</td>\n",
       "      <td>52</td>\n",
       "      <td>2012-12-28</td>\n",
       "      <td>0.0</td>\n",
       "      <td>44.79</td>\n",
       "      <td>3.108</td>\n",
       "      <td>...</td>\n",
       "      <td>-0.115457</td>\n",
       "      <td>-0.488434</td>\n",
       "      <td>-0.277402</td>\n",
       "      <td>1.152551</td>\n",
       "      <td>-0.6632</td>\n",
       "      <td>19124.58</td>\n",
       "      <td>23350.88</td>\n",
       "      <td>0.0</td>\n",
       "      <td>-279.266998</td>\n",
       "      <td>21516.996998</td>\n",
       "    </tr>\n",
       "  </tbody>\n",
       "</table>\n",
       "<p>5 rows × 273 columns</p>\n",
       "</div>"
      ],
      "text/plain": [
       "  type  dept  store  month is_holiday  week_of_year        date  weekly_sales  \\\n",
       "0    A     1      1     11          f            44  2012-11-02           0.0   \n",
       "1    A     1      1     11          f            45  2012-11-09           0.0   \n",
       "2    A     1      1     11          f            46  2012-11-16           0.0   \n",
       "3    A     1      1     11          t            47  2012-11-23           0.0   \n",
       "4    A     1      1     12          t            52  2012-12-28           0.0   \n",
       "\n",
       "   temperature  fuel_price      ...       markdown3_filled_na_scaled  \\\n",
       "0        55.32       3.386      ...                        -0.128456   \n",
       "1        61.24       3.314      ...                        -0.129561   \n",
       "2        52.92       3.252      ...                        -0.122902   \n",
       "3        56.23       3.211      ...                         7.721394   \n",
       "4        44.79       3.108      ...                        -0.115457   \n",
       "\n",
       "   markdown4_filled_na_scaled  markdown5_filled_na_scaled  cpi_filled_scaled  \\\n",
       "0                    0.077105                   -0.137293           1.140481   \n",
       "1                    0.236814                    0.175888           1.140930   \n",
       "2                   -0.320508                    0.217917           1.141697   \n",
       "3                   -0.466949                   -0.360404           1.142886   \n",
       "4                   -0.488434                   -0.277402           1.152551   \n",
       "\n",
       "   unemployment_filled_scaled  median_sales_redone  prev_year_sales  pdt_pred  \\\n",
       "0                     -0.6632             18870.10         39886.06       0.0   \n",
       "1                     -0.6632             18870.10         18689.54       0.0   \n",
       "2                     -0.6632             18870.10         19050.66       0.0   \n",
       "3                     -0.6632             18820.29         20911.25       0.0   \n",
       "4                     -0.6632             19124.58         23350.88       0.0   \n",
       "\n",
       "  predicted_difference    prediction  \n",
       "0         -2897.242676  22448.357676  \n",
       "1          -279.266998  19830.381998  \n",
       "2          -279.266998  19830.381998  \n",
       "3          -328.704651  20194.474651  \n",
       "4          -279.266998  21516.996998  \n",
       "\n",
       "[5 rows x 273 columns]"
      ]
     },
     "execution_count": 74,
     "metadata": {},
     "output_type": "execute_result"
    }
   ],
   "source": [
    "test_file.head()"
   ]
  },
  {
   "cell_type": "code",
   "execution_count": 75,
   "metadata": {},
   "outputs": [
    {
     "data": {
      "text/plain": [
       "(115064, 273)"
      ]
     },
     "execution_count": 75,
     "metadata": {},
     "output_type": "execute_result"
    }
   ],
   "source": [
    "test_file.shape"
   ]
  },
  {
   "cell_type": "code",
   "execution_count": 76,
   "metadata": {},
   "outputs": [],
   "source": [
    "submission_df = pd.DataFrame({\n",
    "                    'id': test_file.store.astype(str) + '_' + test_file.dept.astype(str) + '_' + test_file.date.astype(str),\n",
    "                    'Weekly_Sales': test_file.prediction})"
   ]
  },
  {
   "cell_type": "code",
   "execution_count": 77,
   "metadata": {},
   "outputs": [
    {
     "name": "stdout",
     "output_type": "stream",
     "text": [
      "<class 'pandas.core.frame.DataFrame'>\n",
      "RangeIndex: 115064 entries, 0 to 115063\n",
      "Data columns (total 2 columns):\n",
      "id              115064 non-null object\n",
      "Weekly_Sales    115064 non-null float64\n",
      "dtypes: float64(1), object(1)\n",
      "memory usage: 1.8+ MB\n"
     ]
    }
   ],
   "source": [
    "submission_df.info()"
   ]
  },
  {
   "cell_type": "code",
   "execution_count": 78,
   "metadata": {},
   "outputs": [
    {
     "data": {
      "text/html": [
       "<div>\n",
       "<style scoped>\n",
       "    .dataframe tbody tr th:only-of-type {\n",
       "        vertical-align: middle;\n",
       "    }\n",
       "\n",
       "    .dataframe tbody tr th {\n",
       "        vertical-align: top;\n",
       "    }\n",
       "\n",
       "    .dataframe thead th {\n",
       "        text-align: right;\n",
       "    }\n",
       "</style>\n",
       "<table border=\"1\" class=\"dataframe\">\n",
       "  <thead>\n",
       "    <tr style=\"text-align: right;\">\n",
       "      <th></th>\n",
       "      <th>id</th>\n",
       "      <th>Weekly_Sales</th>\n",
       "    </tr>\n",
       "  </thead>\n",
       "  <tbody>\n",
       "    <tr>\n",
       "      <th>0</th>\n",
       "      <td>1_1_2012-11-02</td>\n",
       "      <td>22448.357676</td>\n",
       "    </tr>\n",
       "    <tr>\n",
       "      <th>1</th>\n",
       "      <td>1_1_2012-11-09</td>\n",
       "      <td>19830.381998</td>\n",
       "    </tr>\n",
       "    <tr>\n",
       "      <th>2</th>\n",
       "      <td>1_1_2012-11-16</td>\n",
       "      <td>19830.381998</td>\n",
       "    </tr>\n",
       "    <tr>\n",
       "      <th>3</th>\n",
       "      <td>1_1_2012-11-23</td>\n",
       "      <td>20194.474651</td>\n",
       "    </tr>\n",
       "    <tr>\n",
       "      <th>4</th>\n",
       "      <td>1_1_2012-12-28</td>\n",
       "      <td>21516.996998</td>\n",
       "    </tr>\n",
       "  </tbody>\n",
       "</table>\n",
       "</div>"
      ],
      "text/plain": [
       "               id  Weekly_Sales\n",
       "0  1_1_2012-11-02  22448.357676\n",
       "1  1_1_2012-11-09  19830.381998\n",
       "2  1_1_2012-11-16  19830.381998\n",
       "3  1_1_2012-11-23  20194.474651\n",
       "4  1_1_2012-12-28  21516.996998"
      ]
     },
     "execution_count": 78,
     "metadata": {},
     "output_type": "execute_result"
    }
   ],
   "source": [
    "submission_df.head()"
   ]
  },
  {
   "cell_type": "code",
   "execution_count": 79,
   "metadata": {},
   "outputs": [
    {
     "data": {
      "text/html": [
       "<div>\n",
       "<style scoped>\n",
       "    .dataframe tbody tr th:only-of-type {\n",
       "        vertical-align: middle;\n",
       "    }\n",
       "\n",
       "    .dataframe tbody tr th {\n",
       "        vertical-align: top;\n",
       "    }\n",
       "\n",
       "    .dataframe thead th {\n",
       "        text-align: right;\n",
       "    }\n",
       "</style>\n",
       "<table border=\"1\" class=\"dataframe\">\n",
       "  <thead>\n",
       "    <tr style=\"text-align: right;\">\n",
       "      <th></th>\n",
       "      <th>id</th>\n",
       "      <th>Weekly_Sales</th>\n",
       "    </tr>\n",
       "  </thead>\n",
       "  <tbody>\n",
       "    <tr>\n",
       "      <th>10269</th>\n",
       "      <td>10_10_2012-11-02</td>\n",
       "      <td>44320.577776</td>\n",
       "    </tr>\n",
       "    <tr>\n",
       "      <th>10270</th>\n",
       "      <td>10_10_2012-11-09</td>\n",
       "      <td>44256.977617</td>\n",
       "    </tr>\n",
       "    <tr>\n",
       "      <th>10271</th>\n",
       "      <td>10_10_2012-11-16</td>\n",
       "      <td>44256.977617</td>\n",
       "    </tr>\n",
       "    <tr>\n",
       "      <th>10272</th>\n",
       "      <td>10_10_2012-11-23</td>\n",
       "      <td>44894.892457</td>\n",
       "    </tr>\n",
       "    <tr>\n",
       "      <th>50240</th>\n",
       "      <td>10_10_2012-11-30</td>\n",
       "      <td>43719.810259</td>\n",
       "    </tr>\n",
       "  </tbody>\n",
       "</table>\n",
       "</div>"
      ],
      "text/plain": [
       "                     id  Weekly_Sales\n",
       "10269  10_10_2012-11-02  44320.577776\n",
       "10270  10_10_2012-11-09  44256.977617\n",
       "10271  10_10_2012-11-16  44256.977617\n",
       "10272  10_10_2012-11-23  44894.892457\n",
       "50240  10_10_2012-11-30  43719.810259"
      ]
     },
     "execution_count": 79,
     "metadata": {},
     "output_type": "execute_result"
    }
   ],
   "source": [
    "submission_df.sort_values(by = 'id').head()"
   ]
  },
  {
   "cell_type": "code",
   "execution_count": 80,
   "metadata": {},
   "outputs": [
    {
     "data": {
      "text/plain": [
       "id              0\n",
       "Weekly_Sales    0\n",
       "dtype: int64"
      ]
     },
     "execution_count": 80,
     "metadata": {},
     "output_type": "execute_result"
    }
   ],
   "source": [
    "submission_df.isnull().sum()"
   ]
  },
  {
   "cell_type": "code",
   "execution_count": 81,
   "metadata": {},
   "outputs": [],
   "source": [
    "submission_df.to_csv('../data/submission.csv',index=False)"
   ]
  }
 ],
 "metadata": {
  "kernelspec": {
   "display_name": "Python 3",
   "language": "python",
   "name": "python3"
  },
  "language_info": {
   "codemirror_mode": {
    "name": "ipython",
    "version": 3
   },
   "file_extension": ".py",
   "mimetype": "text/x-python",
   "name": "python",
   "nbconvert_exporter": "python",
   "pygments_lexer": "ipython3",
   "version": "3.6.6"
  }
 },
 "nbformat": 4,
 "nbformat_minor": 2
}
