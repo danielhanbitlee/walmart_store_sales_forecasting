{
 "cells": [
  {
   "cell_type": "code",
   "execution_count": 246,
   "metadata": {},
   "outputs": [],
   "source": [
    "import matplotlib.pyplot as plt\n",
    "import matplotlib\n",
    "import pandas as pd\n",
    "from pandas.plotting import autocorrelation_plot\n",
    "import numpy as np\n",
    "from statsmodels.tsa.stattools import acf\n",
    "from statsmodels.graphics.tsaplots import plot_acf, plot_pacf\n",
    "from math import sqrt\n",
    "from statsmodels.tsa import stattools\n",
    "from statsmodels.tsa.stattools import adfuller\n",
    "from statsmodels.tsa.arima_model import ARMA, ARIMA\n",
    "from sklearn.linear_model import Ridge, Lasso\n",
    "import statsmodels.tsa.api as smtsa\n",
    "import statsmodels.api as sm\n",
    "import warnings\n",
    "from sqlalchemy import create_engine\n",
    "from pyspark.sql import SparkSession\n",
    "from sklearn.ensemble import RandomForestRegressor, ExtraTreesRegressor\n",
    "from sklearn.utils.validation import check_X_y, check_is_fitted\n",
    "from sklearn import metrics\n",
    "from sklearn.metrics import log_loss\n",
    "from sklearn.model_selection import StratifiedKFold\n",
    "from sklearn.model_selection import train_test_split\n",
    "from sklearn.preprocessing import StandardScaler\n",
    "from sklearn.metrics import accuracy_score, confusion_matrix\n",
    "from scipy import sparse\n",
    "import keras\n",
    "from keras.layers.core import Dense, Activation, Dropout\n",
    "from keras.layers.recurrent import LSTM\n",
    "from keras.layers import Bidirectional\n",
    "from keras.models import Sequential\n",
    "from keras import regularizers\n",
    "from keras import optimizers\n",
    "from keras.callbacks import EarlyStopping\n",
    "from sklearn.metrics import mean_squared_error, mean_absolute_error\n",
    "import xgboost as xgb\n",
    "from sklearn.pipeline import Pipeline\n",
    "from sklearn.linear_model import LinearRegression, Lasso, Ridge, ElasticNet\n",
    "from sklearn.neighbors import KNeighborsRegressor\n",
    "from sklearn.svm import SVR"
   ]
  },
  {
   "cell_type": "code",
   "execution_count": 200,
   "metadata": {},
   "outputs": [],
   "source": [
    "df_final = pd.read_csv('../data/df_final.csv')"
   ]
  },
  {
   "cell_type": "markdown",
   "metadata": {},
   "source": [
    "# Split Data Into Training Set and Test Set"
   ]
  },
  {
   "cell_type": "markdown",
   "metadata": {},
   "source": [
    "Let's split our processed data into training set, validation set, and test set. We'll use the training set to fit our models, validation set to evaluate the model performance. Then, we'll use the test set to make predictions and submit to Kaggle. "
   ]
  },
  {
   "cell_type": "code",
   "execution_count": 201,
   "metadata": {},
   "outputs": [],
   "source": [
    "train = df_final.loc[df_final.source == 'train']\n",
    "\n",
    "test = df_final.loc[df_final.source == 'test']"
   ]
  },
  {
   "cell_type": "code",
   "execution_count": 202,
   "metadata": {},
   "outputs": [],
   "source": [
    "wanted_X_col = [\\\n",
    "#  'type',\n",
    "#  'dept',\n",
    "#  'store',\n",
    "#  'month',\n",
    "#  'is_holiday',\n",
    "#  'week_of_year',\n",
    "#  'date',\n",
    "#  'weekly_sales',\n",
    "#  'temperature',\n",
    "#  'fuel_price',\n",
    "#  'markdown1',\n",
    "#  'markdown2',\n",
    "#  'markdown3',\n",
    "#  'markdown4',\n",
    "#  'markdown5',\n",
    "#  'cpi',\n",
    "#  'unemployment',\n",
    " 'size',\n",
    "#  'source',\n",
    "#  'markdown1_median',\n",
    "#  'markdown2_median',\n",
    "#  'markdown3_median',\n",
    "#  'markdown4_median',\n",
    "#  'markdown5_median',\n",
    "#  'markdown1_median_filled_na',\n",
    "#  'markdown2_median_filled_na',\n",
    "#  'markdown3_median_filled_na',\n",
    "#  'markdown4_median_filled_na',\n",
    "#  'markdown5_median_filled_na',\n",
    "#  'markdown1_filled_na',\n",
    "#  'markdown2_filled_na',\n",
    "#  'markdown3_filled_na',\n",
    "#  'markdown4_filled_na',\n",
    "#  'markdown5_filled_na',\n",
    "#  'md1_present',\n",
    "#  'md2_present',\n",
    "#  'md3_present',\n",
    "#  'md4_present',\n",
    "#  'md5_present',\n",
    "#  'cpi_filled',\n",
    "#  'unemployment_filled',\n",
    "#  'store_relabel',\n",
    "#  'dept_relabel',\n",
    "#  'type_relabel',\n",
    "#  'week_of_year_relabel',\n",
    "#  'month_relabel',\n",
    "#  'is_holiday_relabel',\n",
    "#  'black_friday',\n",
    "#  'pre_christmas',\n",
    " 'store_1',\n",
    " 'store_10',\n",
    " 'store_11',\n",
    " 'store_12',\n",
    " 'store_13',\n",
    " 'store_14',\n",
    " 'store_15',\n",
    " 'store_16',\n",
    " 'store_17',\n",
    " 'store_18',\n",
    " 'store_19',\n",
    " 'store_2',\n",
    " 'store_20',\n",
    " 'store_21',\n",
    " 'store_22',\n",
    " 'store_23',\n",
    " 'store_24',\n",
    " 'store_25',\n",
    " 'store_26',\n",
    " 'store_27',\n",
    " 'store_28',\n",
    " 'store_29',\n",
    " 'store_3',\n",
    " 'store_30',\n",
    " 'store_31',\n",
    " 'store_32',\n",
    " 'store_33',\n",
    " 'store_34',\n",
    " 'store_35',\n",
    " 'store_36',\n",
    " 'store_37',\n",
    " 'store_38',\n",
    " 'store_39',\n",
    " 'store_4',\n",
    " 'store_40',\n",
    " 'store_41',\n",
    " 'store_42',\n",
    " 'store_43',\n",
    " 'store_44',\n",
    " 'store_45',\n",
    " 'store_5',\n",
    " 'store_6',\n",
    " 'store_7',\n",
    " 'store_8',\n",
    " 'store_9',\n",
    " 'dept_1',\n",
    " 'dept_10',\n",
    " 'dept_11',\n",
    " 'dept_12',\n",
    " 'dept_13',\n",
    " 'dept_14',\n",
    " 'dept_16',\n",
    " 'dept_17',\n",
    " 'dept_18',\n",
    " 'dept_19',\n",
    " 'dept_2',\n",
    " 'dept_20',\n",
    " 'dept_21',\n",
    " 'dept_22',\n",
    " 'dept_23',\n",
    " 'dept_24',\n",
    " 'dept_25',\n",
    " 'dept_26',\n",
    " 'dept_27',\n",
    " 'dept_28',\n",
    " 'dept_29',\n",
    " 'dept_3',\n",
    " 'dept_30',\n",
    " 'dept_31',\n",
    " 'dept_32',\n",
    " 'dept_33',\n",
    " 'dept_34',\n",
    " 'dept_35',\n",
    " 'dept_36',\n",
    " 'dept_37',\n",
    " 'dept_38',\n",
    " 'dept_39',\n",
    " 'dept_4',\n",
    " 'dept_40',\n",
    " 'dept_41',\n",
    " 'dept_42',\n",
    " 'dept_43',\n",
    " 'dept_44',\n",
    " 'dept_45',\n",
    " 'dept_46',\n",
    " 'dept_47',\n",
    " 'dept_48',\n",
    " 'dept_49',\n",
    " 'dept_5',\n",
    " 'dept_50',\n",
    " 'dept_51',\n",
    " 'dept_52',\n",
    " 'dept_54',\n",
    " 'dept_55',\n",
    " 'dept_56',\n",
    " 'dept_58',\n",
    " 'dept_59',\n",
    " 'dept_6',\n",
    " 'dept_60',\n",
    " 'dept_65',\n",
    " 'dept_67',\n",
    " 'dept_7',\n",
    " 'dept_71',\n",
    " 'dept_72',\n",
    " 'dept_74',\n",
    " 'dept_77',\n",
    " 'dept_78',\n",
    " 'dept_79',\n",
    " 'dept_8',\n",
    " 'dept_80',\n",
    " 'dept_81',\n",
    " 'dept_82',\n",
    " 'dept_83',\n",
    " 'dept_85',\n",
    " 'dept_87',\n",
    " 'dept_9',\n",
    " 'dept_90',\n",
    " 'dept_91',\n",
    " 'dept_92',\n",
    " 'dept_93',\n",
    " 'dept_94',\n",
    " 'dept_95',\n",
    " 'dept_96',\n",
    " 'dept_97',\n",
    " 'dept_98',\n",
    " 'dept_99',\n",
    " 'type_A',\n",
    " 'type_B',\n",
    " 'type_C',\n",
    " 'week_of_year_1',\n",
    " 'week_of_year_10',\n",
    " 'week_of_year_11',\n",
    " 'week_of_year_12',\n",
    " 'week_of_year_13',\n",
    " 'week_of_year_14',\n",
    " 'week_of_year_15',\n",
    " 'week_of_year_16',\n",
    " 'week_of_year_17',\n",
    " 'week_of_year_18',\n",
    " 'week_of_year_19',\n",
    " 'week_of_year_2',\n",
    " 'week_of_year_20',\n",
    " 'week_of_year_21',\n",
    " 'week_of_year_22',\n",
    " 'week_of_year_23',\n",
    " 'week_of_year_24',\n",
    " 'week_of_year_25',\n",
    " 'week_of_year_26',\n",
    " 'week_of_year_27',\n",
    " 'week_of_year_28',\n",
    " 'week_of_year_29',\n",
    " 'week_of_year_3',\n",
    " 'week_of_year_30',\n",
    " 'week_of_year_31',\n",
    " 'week_of_year_32',\n",
    " 'week_of_year_33',\n",
    " 'week_of_year_34',\n",
    " 'week_of_year_35',\n",
    " 'week_of_year_36',\n",
    " 'week_of_year_37',\n",
    " 'week_of_year_38',\n",
    " 'week_of_year_39',\n",
    " 'week_of_year_4',\n",
    " 'week_of_year_40',\n",
    " 'week_of_year_41',\n",
    " 'week_of_year_42',\n",
    " 'week_of_year_43',\n",
    " 'week_of_year_44',\n",
    " 'week_of_year_45',\n",
    " 'week_of_year_46',\n",
    " 'week_of_year_47',\n",
    " 'week_of_year_48',\n",
    " 'week_of_year_49',\n",
    " 'week_of_year_5',\n",
    " 'week_of_year_50',\n",
    " 'week_of_year_51',\n",
    " 'week_of_year_52',\n",
    " 'week_of_year_6',\n",
    " 'week_of_year_7',\n",
    " 'week_of_year_8',\n",
    " 'week_of_year_9',\n",
    " 'month_1',\n",
    " 'month_10',\n",
    " 'month_11',\n",
    " 'month_12',\n",
    " 'month_2',\n",
    " 'month_3',\n",
    " 'month_4',\n",
    " 'month_5',\n",
    " 'month_6',\n",
    " 'month_7',\n",
    " 'month_8',\n",
    " 'month_9',\n",
    " 'is_holiday_false',\n",
    " 'is_holiday_true',\n",
    " 'black_friday_no',\n",
    " 'black_friday_yes',\n",
    " 'pre_christmas_no',\n",
    " 'pre_christmas_yes',\n",
    "#  'median_sales',\n",
    "#  'median_sales_fillna',\n",
    "#  'previous_week',\n",
    "#  'next_week',\n",
    "#  'previous_weekly_sales',\n",
    " 'sales_diff',\n",
    "#  'weekly_sales_na_filled',\n",
    "#  'value_to_predict',\n",
    " 'lagged_available',\n",
    " 'previous_weekly_sales_scaled',\n",
    "#  'sales_diff_scaled',\n",
    " 'temperature_scaled',\n",
    " 'fuel_price_scaled',\n",
    " 'markdown1_filled_na_scaled',\n",
    " 'markdown2_filled_na_scaled',\n",
    " 'markdown3_filled_na_scaled',\n",
    " 'markdown4_filled_na_scaled',\n",
    " 'markdown5_filled_na_scaled',\n",
    " 'cpi_filled_scaled',\n",
    " 'unemployment_filled_scaled']"
   ]
  },
  {
   "cell_type": "code",
   "execution_count": 203,
   "metadata": {},
   "outputs": [
    {
     "name": "stdout",
     "output_type": "stream",
     "text": [
      "(84314, 212)\n",
      "(84314,)\n"
     ]
    }
   ],
   "source": [
    "# Set seed for reproducability \n",
    "SEED = 42\n",
    "np.random.seed(SEED)\n",
    "X_train, X_val, y_train, y_val = train_test_split(train[wanted_X_col], \n",
    "                                                  train['value_to_predict'], \n",
    "                                                  test_size=0.2, \n",
    "                                                  random_state= SEED)\n",
    "print(X_val.shape)\n",
    "print(y_val.shape)"
   ]
  },
  {
   "cell_type": "code",
   "execution_count": 204,
   "metadata": {},
   "outputs": [],
   "source": [
    "X_test = test[wanted_X_col]"
   ]
  },
  {
   "cell_type": "code",
   "execution_count": 205,
   "metadata": {},
   "outputs": [
    {
     "data": {
      "text/html": [
       "<div>\n",
       "<style scoped>\n",
       "    .dataframe tbody tr th:only-of-type {\n",
       "        vertical-align: middle;\n",
       "    }\n",
       "\n",
       "    .dataframe tbody tr th {\n",
       "        vertical-align: top;\n",
       "    }\n",
       "\n",
       "    .dataframe thead th {\n",
       "        text-align: right;\n",
       "    }\n",
       "</style>\n",
       "<table border=\"1\" class=\"dataframe\">\n",
       "  <thead>\n",
       "    <tr style=\"text-align: right;\">\n",
       "      <th></th>\n",
       "      <th>size</th>\n",
       "      <th>store_1</th>\n",
       "      <th>store_10</th>\n",
       "      <th>store_11</th>\n",
       "      <th>store_12</th>\n",
       "      <th>store_13</th>\n",
       "      <th>store_14</th>\n",
       "      <th>store_15</th>\n",
       "      <th>store_16</th>\n",
       "      <th>store_17</th>\n",
       "      <th>...</th>\n",
       "      <th>previous_weekly_sales_scaled</th>\n",
       "      <th>temperature_scaled</th>\n",
       "      <th>fuel_price_scaled</th>\n",
       "      <th>markdown1_filled_na_scaled</th>\n",
       "      <th>markdown2_filled_na_scaled</th>\n",
       "      <th>markdown3_filled_na_scaled</th>\n",
       "      <th>markdown4_filled_na_scaled</th>\n",
       "      <th>markdown5_filled_na_scaled</th>\n",
       "      <th>cpi_filled_scaled</th>\n",
       "      <th>unemployment_filled_scaled</th>\n",
       "    </tr>\n",
       "  </thead>\n",
       "  <tbody>\n",
       "    <tr>\n",
       "      <th>count</th>\n",
       "      <td>337256.000000</td>\n",
       "      <td>337256.000000</td>\n",
       "      <td>337256.000000</td>\n",
       "      <td>337256.000000</td>\n",
       "      <td>337256.000000</td>\n",
       "      <td>337256.000000</td>\n",
       "      <td>337256.000000</td>\n",
       "      <td>337256.000000</td>\n",
       "      <td>337256.000000</td>\n",
       "      <td>337256.000000</td>\n",
       "      <td>...</td>\n",
       "      <td>337256.000000</td>\n",
       "      <td>337256.000000</td>\n",
       "      <td>337256.000000</td>\n",
       "      <td>337256.000000</td>\n",
       "      <td>337256.000000</td>\n",
       "      <td>337256.000000</td>\n",
       "      <td>337256.000000</td>\n",
       "      <td>337256.000000</td>\n",
       "      <td>337256.000000</td>\n",
       "      <td>337256.000000</td>\n",
       "    </tr>\n",
       "    <tr>\n",
       "      <th>mean</th>\n",
       "      <td>136811.628614</td>\n",
       "      <td>0.024255</td>\n",
       "      <td>0.024501</td>\n",
       "      <td>0.024011</td>\n",
       "      <td>0.023074</td>\n",
       "      <td>0.024865</td>\n",
       "      <td>0.023851</td>\n",
       "      <td>0.023306</td>\n",
       "      <td>0.022348</td>\n",
       "      <td>0.023424</td>\n",
       "      <td>...</td>\n",
       "      <td>0.000705</td>\n",
       "      <td>0.070674</td>\n",
       "      <td>-0.111870</td>\n",
       "      <td>-0.000549</td>\n",
       "      <td>-0.024504</td>\n",
       "      <td>-0.025401</td>\n",
       "      <td>0.007145</td>\n",
       "      <td>0.007754</td>\n",
       "      <td>-0.126769</td>\n",
       "      <td>0.108531</td>\n",
       "    </tr>\n",
       "    <tr>\n",
       "      <th>std</th>\n",
       "      <td>60981.743057</td>\n",
       "      <td>0.153839</td>\n",
       "      <td>0.154598</td>\n",
       "      <td>0.153085</td>\n",
       "      <td>0.150140</td>\n",
       "      <td>0.155715</td>\n",
       "      <td>0.152586</td>\n",
       "      <td>0.150873</td>\n",
       "      <td>0.147813</td>\n",
       "      <td>0.151247</td>\n",
       "      <td>...</td>\n",
       "      <td>1.002870</td>\n",
       "      <td>0.987031</td>\n",
       "      <td>1.064583</td>\n",
       "      <td>0.933848</td>\n",
       "      <td>0.976185</td>\n",
       "      <td>0.870869</td>\n",
       "      <td>0.955494</td>\n",
       "      <td>0.638715</td>\n",
       "      <td>0.949807</td>\n",
       "      <td>1.035236</td>\n",
       "    </tr>\n",
       "    <tr>\n",
       "      <th>min</th>\n",
       "      <td>34875.000000</td>\n",
       "      <td>0.000000</td>\n",
       "      <td>0.000000</td>\n",
       "      <td>0.000000</td>\n",
       "      <td>0.000000</td>\n",
       "      <td>0.000000</td>\n",
       "      <td>0.000000</td>\n",
       "      <td>0.000000</td>\n",
       "      <td>0.000000</td>\n",
       "      <td>0.000000</td>\n",
       "      <td>...</td>\n",
       "      <td>-0.923577</td>\n",
       "      <td>-3.256742</td>\n",
       "      <td>-2.173112</td>\n",
       "      <td>-0.954541</td>\n",
       "      <td>-0.361373</td>\n",
       "      <td>-0.143131</td>\n",
       "      <td>-0.500244</td>\n",
       "      <td>-0.391600</td>\n",
       "      <td>-1.221934</td>\n",
       "      <td>-2.159869</td>\n",
       "    </tr>\n",
       "    <tr>\n",
       "      <th>25%</th>\n",
       "      <td>93638.000000</td>\n",
       "      <td>0.000000</td>\n",
       "      <td>0.000000</td>\n",
       "      <td>0.000000</td>\n",
       "      <td>0.000000</td>\n",
       "      <td>0.000000</td>\n",
       "      <td>0.000000</td>\n",
       "      <td>0.000000</td>\n",
       "      <td>0.000000</td>\n",
       "      <td>0.000000</td>\n",
       "      <td>...</td>\n",
       "      <td>-0.611843</td>\n",
       "      <td>-0.646284</td>\n",
       "      <td>-1.105483</td>\n",
       "      <td>-0.590129</td>\n",
       "      <td>-0.321715</td>\n",
       "      <td>-0.133170</td>\n",
       "      <td>-0.445797</td>\n",
       "      <td>-0.221214</td>\n",
       "      <td>-1.077406</td>\n",
       "      <td>-0.486533</td>\n",
       "    </tr>\n",
       "    <tr>\n",
       "      <th>50%</th>\n",
       "      <td>140167.000000</td>\n",
       "      <td>0.000000</td>\n",
       "      <td>0.000000</td>\n",
       "      <td>0.000000</td>\n",
       "      <td>0.000000</td>\n",
       "      <td>0.000000</td>\n",
       "      <td>0.000000</td>\n",
       "      <td>0.000000</td>\n",
       "      <td>0.000000</td>\n",
       "      <td>0.000000</td>\n",
       "      <td>...</td>\n",
       "      <td>-0.368301</td>\n",
       "      <td>0.178719</td>\n",
       "      <td>0.101402</td>\n",
       "      <td>-0.228579</td>\n",
       "      <td>-0.304073</td>\n",
       "      <td>-0.130559</td>\n",
       "      <td>-0.288940</td>\n",
       "      <td>-0.093494</td>\n",
       "      <td>0.143311</td>\n",
       "      <td>0.055134</td>\n",
       "    </tr>\n",
       "    <tr>\n",
       "      <th>75%</th>\n",
       "      <td>202505.000000</td>\n",
       "      <td>0.000000</td>\n",
       "      <td>0.000000</td>\n",
       "      <td>0.000000</td>\n",
       "      <td>0.000000</td>\n",
       "      <td>0.000000</td>\n",
       "      <td>0.000000</td>\n",
       "      <td>0.000000</td>\n",
       "      <td>0.000000</td>\n",
       "      <td>0.000000</td>\n",
       "      <td>...</td>\n",
       "      <td>0.186111</td>\n",
       "      <td>0.829192</td>\n",
       "      <td>0.762867</td>\n",
       "      <td>0.229180</td>\n",
       "      <td>-0.198240</td>\n",
       "      <td>-0.121428</td>\n",
       "      <td>0.048027</td>\n",
       "      <td>0.092792</td>\n",
       "      <td>0.872564</td>\n",
       "      <td>0.447357</td>\n",
       "    </tr>\n",
       "    <tr>\n",
       "      <th>max</th>\n",
       "      <td>219622.000000</td>\n",
       "      <td>1.000000</td>\n",
       "      <td>1.000000</td>\n",
       "      <td>1.000000</td>\n",
       "      <td>1.000000</td>\n",
       "      <td>1.000000</td>\n",
       "      <td>1.000000</td>\n",
       "      <td>1.000000</td>\n",
       "      <td>1.000000</td>\n",
       "      <td>1.000000</td>\n",
       "      <td>...</td>\n",
       "      <td>29.841893</td>\n",
       "      <td>2.214726</td>\n",
       "      <td>2.459469</td>\n",
       "      <td>9.169701</td>\n",
       "      <td>14.875178</td>\n",
       "      <td>14.967527</td>\n",
       "      <td>10.202394</td>\n",
       "      <td>35.418318</td>\n",
       "      <td>1.231923</td>\n",
       "      <td>3.636805</td>\n",
       "    </tr>\n",
       "  </tbody>\n",
       "</table>\n",
       "<p>8 rows × 212 columns</p>\n",
       "</div>"
      ],
      "text/plain": [
       "                size        store_1       store_10       store_11  \\\n",
       "count  337256.000000  337256.000000  337256.000000  337256.000000   \n",
       "mean   136811.628614       0.024255       0.024501       0.024011   \n",
       "std     60981.743057       0.153839       0.154598       0.153085   \n",
       "min     34875.000000       0.000000       0.000000       0.000000   \n",
       "25%     93638.000000       0.000000       0.000000       0.000000   \n",
       "50%    140167.000000       0.000000       0.000000       0.000000   \n",
       "75%    202505.000000       0.000000       0.000000       0.000000   \n",
       "max    219622.000000       1.000000       1.000000       1.000000   \n",
       "\n",
       "            store_12       store_13       store_14       store_15  \\\n",
       "count  337256.000000  337256.000000  337256.000000  337256.000000   \n",
       "mean        0.023074       0.024865       0.023851       0.023306   \n",
       "std         0.150140       0.155715       0.152586       0.150873   \n",
       "min         0.000000       0.000000       0.000000       0.000000   \n",
       "25%         0.000000       0.000000       0.000000       0.000000   \n",
       "50%         0.000000       0.000000       0.000000       0.000000   \n",
       "75%         0.000000       0.000000       0.000000       0.000000   \n",
       "max         1.000000       1.000000       1.000000       1.000000   \n",
       "\n",
       "            store_16       store_17             ...              \\\n",
       "count  337256.000000  337256.000000             ...               \n",
       "mean        0.022348       0.023424             ...               \n",
       "std         0.147813       0.151247             ...               \n",
       "min         0.000000       0.000000             ...               \n",
       "25%         0.000000       0.000000             ...               \n",
       "50%         0.000000       0.000000             ...               \n",
       "75%         0.000000       0.000000             ...               \n",
       "max         1.000000       1.000000             ...               \n",
       "\n",
       "       previous_weekly_sales_scaled  temperature_scaled  fuel_price_scaled  \\\n",
       "count                 337256.000000       337256.000000      337256.000000   \n",
       "mean                       0.000705            0.070674          -0.111870   \n",
       "std                        1.002870            0.987031           1.064583   \n",
       "min                       -0.923577           -3.256742          -2.173112   \n",
       "25%                       -0.611843           -0.646284          -1.105483   \n",
       "50%                       -0.368301            0.178719           0.101402   \n",
       "75%                        0.186111            0.829192           0.762867   \n",
       "max                       29.841893            2.214726           2.459469   \n",
       "\n",
       "       markdown1_filled_na_scaled  markdown2_filled_na_scaled  \\\n",
       "count               337256.000000               337256.000000   \n",
       "mean                    -0.000549                   -0.024504   \n",
       "std                      0.933848                    0.976185   \n",
       "min                     -0.954541                   -0.361373   \n",
       "25%                     -0.590129                   -0.321715   \n",
       "50%                     -0.228579                   -0.304073   \n",
       "75%                      0.229180                   -0.198240   \n",
       "max                      9.169701                   14.875178   \n",
       "\n",
       "       markdown3_filled_na_scaled  markdown4_filled_na_scaled  \\\n",
       "count               337256.000000               337256.000000   \n",
       "mean                    -0.025401                    0.007145   \n",
       "std                      0.870869                    0.955494   \n",
       "min                     -0.143131                   -0.500244   \n",
       "25%                     -0.133170                   -0.445797   \n",
       "50%                     -0.130559                   -0.288940   \n",
       "75%                     -0.121428                    0.048027   \n",
       "max                     14.967527                   10.202394   \n",
       "\n",
       "       markdown5_filled_na_scaled  cpi_filled_scaled  \\\n",
       "count               337256.000000      337256.000000   \n",
       "mean                     0.007754          -0.126769   \n",
       "std                      0.638715           0.949807   \n",
       "min                     -0.391600          -1.221934   \n",
       "25%                     -0.221214          -1.077406   \n",
       "50%                     -0.093494           0.143311   \n",
       "75%                      0.092792           0.872564   \n",
       "max                     35.418318           1.231923   \n",
       "\n",
       "       unemployment_filled_scaled  \n",
       "count               337256.000000  \n",
       "mean                     0.108531  \n",
       "std                      1.035236  \n",
       "min                     -2.159869  \n",
       "25%                     -0.486533  \n",
       "50%                      0.055134  \n",
       "75%                      0.447357  \n",
       "max                      3.636805  \n",
       "\n",
       "[8 rows x 212 columns]"
      ]
     },
     "execution_count": 205,
     "metadata": {},
     "output_type": "execute_result"
    }
   ],
   "source": [
    "X_train.describe()"
   ]
  },
  {
   "cell_type": "markdown",
   "metadata": {},
   "source": [
    "# Neural Networks Implementation"
   ]
  },
  {
   "cell_type": "markdown",
   "metadata": {},
   "source": [
    "The following neural network implemention is from [here](https://www.kaggle.com/fernandol/cracking-the-walmart-sales-forecasting-challenge?scriptVersionId=3025467)."
   ]
  },
  {
   "cell_type": "code",
   "execution_count": 206,
   "metadata": {},
   "outputs": [
    {
     "data": {
      "text/plain": [
       "(337256, 212)"
      ]
     },
     "execution_count": 206,
     "metadata": {},
     "output_type": "execute_result"
    }
   ],
   "source": [
    "X_train.shape"
   ]
  },
  {
   "cell_type": "code",
   "execution_count": 207,
   "metadata": {},
   "outputs": [
    {
     "data": {
      "text/plain": [
       "212"
      ]
     },
     "execution_count": 207,
     "metadata": {},
     "output_type": "execute_result"
    }
   ],
   "source": [
    "X_train.shape[1]"
   ]
  },
  {
   "cell_type": "code",
   "execution_count": 121,
   "metadata": {},
   "outputs": [
    {
     "name": "stdout",
     "output_type": "stream",
     "text": [
      "Train on 337256 samples, validate on 84314 samples\n",
      "Epoch 1/1000\n",
      "337256/337256 [==============================] - 7s 20us/step - loss: 1589.8215 - acc: 1.3936e-04 - val_loss: 1538.6051 - val_acc: 4.7442e-05\n",
      "Epoch 2/1000\n",
      "337256/337256 [==============================] - 6s 19us/step - loss: 1503.1153 - acc: 1.9570e-04 - val_loss: 1480.0366 - val_acc: 4.1511e-04\n",
      "Epoch 3/1000\n",
      "337256/337256 [==============================] - 6s 19us/step - loss: 1490.7460 - acc: 3.3209e-04 - val_loss: 1515.5584 - val_acc: 8.3023e-05\n",
      "Epoch 4/1000\n",
      "337256/337256 [==============================] - 7s 19us/step - loss: 1494.0017 - acc: 1.9570e-04 - val_loss: 1480.6444 - val_acc: 3.6767e-04\n",
      "Epoch 5/1000\n",
      "337256/337256 [==============================] - 7s 22us/step - loss: 1502.1416 - acc: 1.8680e-04 - val_loss: 1503.8448 - val_acc: 7.1163e-05\n",
      "Epoch 6/1000\n",
      "337256/337256 [==============================] - 7s 21us/step - loss: 1492.3913 - acc: 2.4017e-04 - val_loss: 1480.4815 - val_acc: 2.6093e-04\n",
      "Epoch 7/1000\n",
      "337256/337256 [==============================] - 7s 20us/step - loss: 1499.6049 - acc: 1.2453e-04 - val_loss: 1492.0713 - val_acc: 9.4883e-05\n",
      "84314/84314 [==============================] - 3s 31us/step\n"
     ]
    },
    {
     "data": {
      "text/plain": [
       "[1492.0713245916586, 9.48834120074958e-05]"
      ]
     },
     "execution_count": 121,
     "metadata": {},
     "output_type": "execute_result"
    }
   ],
   "source": [
    "# Sequential model\n",
    "adam_regularized = Sequential()\n",
    "\n",
    "# First hidden layer now regularized\n",
    "adam_regularized.add(Dense(212, activation='relu',\n",
    "                input_dim=X_train.shape[1]))\n",
    "\n",
    "# Second hidden layer now regularized\n",
    "adam_regularized.add(Dense(106, activation='relu'))\n",
    "\n",
    "# Third hidden layer now regularized\n",
    "adam_regularized.add(Dense(53, activation='relu'))\n",
    "\n",
    "# Output layer stayed sigmoid\n",
    "adam_regularized.add(Dense(1))\n",
    "\n",
    "# Setup adam optimizer\n",
    "adam_optimizer=keras.optimizers.Adam(lr=0.01,\n",
    "                beta_1=0.9, \n",
    "                beta_2=0.999, \n",
    "                epsilon=1e-08)\n",
    "\n",
    "# Compile the model\n",
    "adam_regularized.compile(optimizer='adam',\n",
    "              loss='mean_absolute_error',\n",
    "              metrics=['acc'])\n",
    "\n",
    "# early stopping\n",
    "early_stopping_monitor = EarlyStopping(patience = 5)\n",
    "\n",
    "# Train\n",
    "history_adam_regularized=adam_regularized.fit(X_train, y_train, # Train on training set\n",
    "                             epochs=1000, # We will train over 1,000 epochs\n",
    "                             batch_size=2048, # Batch size \n",
    "                             verbose=1, \n",
    "                             callbacks = [early_stopping_monitor],\n",
    "                             validation_data = (X_val, y_val)) # early stop fitting if no improvement in 5 epochs\n",
    "\n",
    "adam_regularized.evaluate(x=X_val,y=y_val)"
   ]
  },
  {
   "cell_type": "code",
   "execution_count": 122,
   "metadata": {},
   "outputs": [
    {
     "data": {
      "image/png": "[encoded data removed]",
      "text/plain": [
       "<Figure size 432x288 with 1 Axes>"
      ]
     },
     "metadata": {
      "needs_background": "light"
     },
     "output_type": "display_data"
    }
   ],
   "source": [
    "plt.plot(history_adam_regularized.history['loss'])\n",
    "plt.plot(history_adam_regularized.history['val_loss'])\n",
    "plt.title('Model loss')\n",
    "plt.ylabel('Loss')\n",
    "plt.xlabel('Epoch')\n",
    "plt.legend(['Train', 'Validation'], loc='upper left')\n",
    "plt.show()"
   ]
  },
  {
   "cell_type": "markdown",
   "metadata": {},
   "source": [
    "# K Nearest Neighbor Regression"
   ]
  },
  {
   "cell_type": "code",
   "execution_count": 248,
   "metadata": {},
   "outputs": [
    {
     "name": "stdout",
     "output_type": "stream",
     "text": [
      "val set mae of knn: 1637.178\n"
     ]
    }
   ],
   "source": [
    "# KNN (no parameter tuning)\n",
    "\n",
    "# Instantiate knn\n",
    "knn = KNeighborsRegressor(n_neighbors=10, n_jobs = -1)\n",
    "\n",
    "# Fit knn to the training set\n",
    "knn.fit(X_train, y_train)\n",
    "\n",
    "# Predict val set labels\n",
    "y_pred_knn = knn.predict(X_val)\n",
    "\n",
    "# Compute val set mae\n",
    "mae_val_knn = mean_absolute_error(y_val, y_pred_knn)\n",
    "\n",
    "# Print mae_val\n",
    "print('val set mae of knn: {:.3f}'.format(mae_val_knn))"
   ]
  },
  {
   "cell_type": "markdown",
   "metadata": {},
   "source": [
    "# Stochastic Gradient Boosting"
   ]
  },
  {
   "cell_type": "code",
   "execution_count": 213,
   "metadata": {},
   "outputs": [
    {
     "name": "stdout",
     "output_type": "stream",
     "text": [
      "val set mae of xgbr: 1381.603\n"
     ]
    }
   ],
   "source": [
    "# stochastic gradient boosting regressor using xgboost (no parameter tuning)\n",
    "\n",
    "# Instantiate xgbr\n",
    "xgbr = xgb.XGBRegressor(subsample=0.9,\n",
    "            colsample_bytree=0.75,\n",
    "            random_state=SEED, n_jobs = -1)\n",
    "\n",
    "# Fit xgbr to the training set\n",
    "xgbr.fit(X_train, y_train)\n",
    "\n",
    "# Predict val set labels\n",
    "y_pred_xgbr = xgbr.predict(X_val)\n",
    "\n",
    "# Compute val set mae\n",
    "mae_val_xgbr = mean_absolute_error(y_val, y_pred_xgbr)\n",
    "\n",
    "# Print mae_val\n",
    "print('val set mae of xgbr: {:.3f}'.format(mae_val_xgbr))"
   ]
  },
  {
   "cell_type": "markdown",
   "metadata": {},
   "source": [
    "# Random Forest Regression"
   ]
  },
  {
   "cell_type": "code",
   "execution_count": null,
   "metadata": {},
   "outputs": [],
   "source": [
    "#  random forest (no hyperparameter tuning)\n",
    "\n",
    "# Instantiate rf\n",
    "rf = RandomForestRegressor(random_state=SEED, n_jobs = -1, verbose = 1)\n",
    "\n",
    "# Fit rf to the training set\n",
    "rf.fit(X_train, y_train)\n",
    "\n",
    "# Predict test set labels\n",
    "y_pred_rf = rf.predict(X_val)\n",
    "\n",
    "# Compute mae\n",
    "mae_test_rf = mean_absolute_error(y_val, y_pred_rf)\n",
    "\n",
    "# Print mae\n",
    "print('Test set mae of rf: {:.3f}'.format(mae_test_rf))"
   ]
  },
  {
   "cell_type": "markdown",
   "metadata": {},
   "source": [
    "# Support Vector Regression"
   ]
  },
  {
   "cell_type": "code",
   "execution_count": null,
   "metadata": {},
   "outputs": [],
   "source": [
    "#  support vector regression (no hyperparameter tuning)\n",
    "\n",
    "# Instantiate svr\n",
    "svr = SVR(kernel='rbf', gamma='auto')\n",
    "\n",
    "# Fit svr to the training set\n",
    "svr.fit(X_train, y_train)\n",
    "\n",
    "# Predict test set labels\n",
    "y_pred_svr = svr.predict(X_val)\n",
    "\n",
    "# Compute mae\n",
    "mae_test_svr = mean_absolute_error(y_val, y_pred_svr)\n",
    "\n",
    "# Print mae\n",
    "print('Test set mae of svr: {:.3f}'.format(mae_test_svr))"
   ]
  },
  {
   "cell_type": "markdown",
   "metadata": {},
   "source": [
    "# Extra Trees Regression"
   ]
  },
  {
   "cell_type": "code",
   "execution_count": 250,
   "metadata": {},
   "outputs": [
    {
     "name": "stderr",
     "output_type": "stream",
     "text": [
      "[Parallel(n_jobs=-1)]: Done  42 tasks      | elapsed: 14.0min\n",
      "[Parallel(n_jobs=-1)]: Done 100 out of 100 | elapsed: 32.1min finished\n",
      "[Parallel(n_jobs=4)]: Done  42 tasks      | elapsed:    1.7s\n"
     ]
    },
    {
     "name": "stdout",
     "output_type": "stream",
     "text": [
      "Test set mae of etr: 1030.746\n"
     ]
    },
    {
     "name": "stderr",
     "output_type": "stream",
     "text": [
      "[Parallel(n_jobs=4)]: Done 100 out of 100 | elapsed:    3.8s finished\n"
     ]
    }
   ],
   "source": [
    "#  extra trees regression (no hyperparameter tuning)\n",
    "\n",
    "# Instantiate etr\n",
    "etr = ExtraTreesRegressor(n_estimators=100,max_features='auto', verbose=1, n_jobs = -1)\n",
    "\n",
    "# Fit etr to the training set\n",
    "etr.fit(X_train, y_train)\n",
    "\n",
    "# Predict test set labels\n",
    "y_pred_etr = etr.predict(X_val)\n",
    "\n",
    "# Compute mae\n",
    "mae_test_etr = mean_absolute_error(y_val, y_pred_etr)\n",
    "\n",
    "# Print mae\n",
    "print('Test set mae of etr: {:.3f}'.format(mae_test_etr))"
   ]
  },
  {
   "cell_type": "markdown",
   "metadata": {},
   "source": [
    "# Elastic Net Regression"
   ]
  },
  {
   "cell_type": "code",
   "execution_count": 224,
   "metadata": {},
   "outputs": [
    {
     "name": "stdout",
     "output_type": "stream",
     "text": [
      "val mae of best model: 1576.881\n"
     ]
    }
   ],
   "source": [
    "# Elastic Net (no hyperparameter tuning)\n",
    "\n",
    "# set up the pipeline steps: steps\n",
    "steps = [('st_scaler', StandardScaler()),\n",
    "         ('enet', ElasticNet(random_state = SEED))]\n",
    "\n",
    "enet_pipeline = Pipeline(steps)\n",
    "\n",
    "# fit to the training data\n",
    "enet_pipeline.fit(X_train, y_train)\n",
    "\n",
    "# predict the val set labels\n",
    "y_pred_enet = enet_pipeline.predict(X_val)\n",
    "\n",
    "# Compute mae_val\n",
    "mae_val_enet = mean_absolute_error(y_val, y_pred_enet)\n",
    "\n",
    "# Print mae_val\n",
    "print('val mae of best model: {:.3f}'.format(mae_val_enet))"
   ]
  },
  {
   "cell_type": "markdown",
   "metadata": {},
   "source": [
    "# Predict Using Best Model"
   ]
  },
  {
   "cell_type": "code",
   "execution_count": null,
   "metadata": {},
   "outputs": [],
   "source": [
    "y_pred = etr.predict(X_test)"
   ]
  },
  {
   "cell_type": "code",
   "execution_count": null,
   "metadata": {},
   "outputs": [],
   "source": [
    "y_pred"
   ]
  },
  {
   "cell_type": "code",
   "execution_count": null,
   "metadata": {},
   "outputs": [],
   "source": [
    "y_pred_df = pd.DataFrame(y_pred)"
   ]
  },
  {
   "cell_type": "code",
   "execution_count": null,
   "metadata": {},
   "outputs": [],
   "source": [
    "y_pred_df.columns = ['predicted_difference']"
   ]
  },
  {
   "cell_type": "code",
   "execution_count": null,
   "metadata": {},
   "outputs": [],
   "source": [
    "y_pred_df.shape"
   ]
  },
  {
   "cell_type": "code",
   "execution_count": null,
   "metadata": {},
   "outputs": [],
   "source": [
    "y_pred_df.isnull().sum()"
   ]
  },
  {
   "cell_type": "code",
   "execution_count": null,
   "metadata": {},
   "outputs": [],
   "source": [
    "test_file = pd.concat([test.reset_index(drop=True), y_pred_df], axis=1)"
   ]
  },
  {
   "cell_type": "code",
   "execution_count": null,
   "metadata": {},
   "outputs": [],
   "source": [
    "test_file.head()"
   ]
  },
  {
   "cell_type": "code",
   "execution_count": null,
   "metadata": {},
   "outputs": [],
   "source": [
    "# test_file['prediction'] = test_file['predicted_difference']\n",
    "test_file['prediction'] = test_file['median_sales_fillna'] - test_file['predicted_difference']"
   ]
  },
  {
   "cell_type": "code",
   "execution_count": null,
   "metadata": {},
   "outputs": [],
   "source": [
    "test_file['prediction'].isnull().sum()"
   ]
  },
  {
   "cell_type": "code",
   "execution_count": null,
   "metadata": {},
   "outputs": [],
   "source": [
    "test_file.head()"
   ]
  },
  {
   "cell_type": "code",
   "execution_count": null,
   "metadata": {},
   "outputs": [],
   "source": [
    "test_file.shape"
   ]
  },
  {
   "cell_type": "code",
   "execution_count": null,
   "metadata": {},
   "outputs": [],
   "source": [
    "submission_df = pd.DataFrame({\n",
    "                    'id': test_file.store.astype(str) + '_' + test_file.dept.astype(str) + '_' + test_file.date.astype(str),\n",
    "                    'Weekly_Sales': test_file.prediction})"
   ]
  },
  {
   "cell_type": "code",
   "execution_count": null,
   "metadata": {},
   "outputs": [],
   "source": [
    "submission_df.info()"
   ]
  },
  {
   "cell_type": "code",
   "execution_count": null,
   "metadata": {},
   "outputs": [],
   "source": [
    "submission_df.head()"
   ]
  },
  {
   "cell_type": "code",
   "execution_count": null,
   "metadata": {},
   "outputs": [],
   "source": [
    "submission_df.sort_values(by = 'id').head()"
   ]
  },
  {
   "cell_type": "code",
   "execution_count": null,
   "metadata": {},
   "outputs": [],
   "source": [
    "submission_df.isnull().sum()"
   ]
  },
  {
   "cell_type": "code",
   "execution_count": null,
   "metadata": {},
   "outputs": [],
   "source": [
    "submission_df.to_csv('../data/submission.csv',index=False)"
   ]
  }
 ],
 "metadata": {
  "kernelspec": {
   "display_name": "Python 3",
   "language": "python",
   "name": "python3"
  },
  "language_info": {
   "codemirror_mode": {
    "name": "ipython",
    "version": 3
   },
   "file_extension": ".py",
   "mimetype": "text/x-python",
   "name": "python",
   "nbconvert_exporter": "python",
   "pygments_lexer": "ipython3",
   "version": "3.6.6"
  }
 },
 "nbformat": 4,
 "nbformat_minor": 2
}
